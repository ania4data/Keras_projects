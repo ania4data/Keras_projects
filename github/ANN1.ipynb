{
 "cells": [
  {
   "cell_type": "code",
   "execution_count": 1,
   "metadata": {},
   "outputs": [],
   "source": [
    "import numpy as np\n",
    "from random import randint\n",
    "from sklearn.preprocessing import MinMaxScaler,LabelBinarizer,LabelEncoder\n"
   ]
  },
  {
   "cell_type": "code",
   "execution_count": 2,
   "metadata": {},
   "outputs": [],
   "source": [
    "x_train=[]\n",
    "x_label=[]"
   ]
  },
  {
   "cell_type": "code",
   "execution_count": 3,
   "metadata": {},
   "outputs": [],
   "source": [
    "#had to use 2 or 3 since with 0/1 was confusing (accuracy was ok, \n",
    "#but label predict did not macth!),\n",
    "#then needed to use label encode to make 0/1\n",
    "#I think the problem was the first label was one and second label was 0\n",
    "#so basically it is possible since data had first instance as 1 in real data, class of first instance was 0\n",
    "#that's why for label real at 1, get probability of e.g. [0.8,0.2] since 1 come before 0 in real class 1 is assigned to that\n",
    "#guessing\n",
    "#if label set to 1 then 0, if encode it (become 0 then 1, the model get the encoders right with argmax\n",
    "\n",
    "# Note: when using the categorical_crossentropy loss, your targets should be in categorical format \n",
    "#(e.g. if you have 10 classes, the target for each sample should be a 10-dimensional vector that\n",
    "#is all-zeros except for a 1 at the index corresponding to the class of the sample). \n",
    "#In order to convert integer targets into categorical targets, you can use the Keras utility to_categorical:\n",
    "\n",
    "# from keras.utils.np_utils import to_categorical  make it one hot code\n",
    "\n",
    "# categorical_labels = to_categorical(int_labels, num_classes=None)\n",
    "\n",
    "# from keras.utils.np_utils import to_categorical  make it one hot code\n",
    "\n",
    "# Use 'softmax' and 'categorical_crossentropy' instead of 'sigmoid' and 'binary_crossentropy'.\n",
    "# By using the latter two, you're treating the problem as a multilabel problem, not a multiclass problem.\n",
    "\n",
    "for i in range(50):\n",
    "    # The 5% of younger individuals who did experience side effects\n",
    "    random_younger = randint(13,64)\n",
    "    x_train.append(random_younger)\n",
    "    x_label.append(2)\n",
    "    \n",
    "    # The 5% of older individuals who did not experience side effects\n",
    "    random_older = randint(65,100)\n",
    "    x_train.append(random_older)\n",
    "    x_label.append(3)\n",
    "\n",
    "for i in range(1000):\n",
    "    # The 95% of younger individuals who did not experience side effects\n",
    "    random_younger = randint(13,64)\n",
    "    x_train.append(random_younger)\n",
    "    x_label.append(2)\n",
    "    \n",
    "    # The 95% of older individuals who did experience side effects\n",
    "    random_older = randint(65,100)\n",
    "    x_train.append(random_older)\n",
    "    x_label.append(3)"
   ]
  },
  {
   "cell_type": "code",
   "execution_count": 4,
   "metadata": {},
   "outputs": [
    {
     "data": {
      "text/plain": [
       "[2, 3, 2, 3, 2, 3, 2, 3, 2, 3, 2, 3, 2, 3, 2]"
      ]
     },
     "execution_count": 4,
     "metadata": {},
     "output_type": "execute_result"
    }
   ],
   "source": [
    "x_label[0:15]"
   ]
  },
  {
   "cell_type": "code",
   "execution_count": 5,
   "metadata": {},
   "outputs": [],
   "source": [
    "#1050 young 13<<65yr ,50 side effect  1000 ok\n",
    "#1050 old 50 65< <100 yrs, side effect   1000 ok "
   ]
  },
  {
   "cell_type": "code",
   "execution_count": 6,
   "metadata": {},
   "outputs": [],
   "source": [
    "# x_young=np.random.randint(13,65,size=1000)\n",
    "# label_young=np.random.randint(0,1,size=1000)"
   ]
  },
  {
   "cell_type": "code",
   "execution_count": 7,
   "metadata": {},
   "outputs": [],
   "source": [
    "# x_old=np.random.randint(65,100,size=1000)\n",
    "# label_old=np.random.randint(0,1,size=1000)"
   ]
  },
  {
   "cell_type": "code",
   "execution_count": 8,
   "metadata": {},
   "outputs": [],
   "source": [
    "# x_young2=np.random.randint(13,65,size=50)\n",
    "# label_young2=np.random.randint(1,2,size=50)\n",
    "# x_old2=np.random.randint(65,100,size=50)\n",
    "# label_old2=np.random.randint(1,2,size=50)"
   ]
  },
  {
   "cell_type": "code",
   "execution_count": 9,
   "metadata": {},
   "outputs": [],
   "source": [
    "# x_train=np.concatenate((x_young,x_young2,x_old,x_old2),axis=0)"
   ]
  },
  {
   "cell_type": "code",
   "execution_count": 10,
   "metadata": {},
   "outputs": [],
   "source": [
    "# x_label=np.concatenate((label_young,label_young2,label_old,label_old2),axis=0)"
   ]
  },
  {
   "cell_type": "code",
   "execution_count": 11,
   "metadata": {},
   "outputs": [
    {
     "data": {
      "text/plain": [
       "2100"
      ]
     },
     "execution_count": 11,
     "metadata": {},
     "output_type": "execute_result"
    }
   ],
   "source": [
    "len(x_label)"
   ]
  },
  {
   "cell_type": "code",
   "execution_count": 12,
   "metadata": {},
   "outputs": [
    {
     "data": {
      "text/plain": [
       "[2, 3, 2, 3, 2, 3, 2, 3, 2, 3, 2, 3, 2, 3, 2]"
      ]
     },
     "execution_count": 12,
     "metadata": {},
     "output_type": "execute_result"
    }
   ],
   "source": [
    "x_label[0:15]"
   ]
  },
  {
   "cell_type": "code",
   "execution_count": 13,
   "metadata": {},
   "outputs": [],
   "source": [
    "x_train=np.array(x_train)\n",
    "x_label=np.array(x_label)"
   ]
  },
  {
   "cell_type": "code",
   "execution_count": 14,
   "metadata": {},
   "outputs": [
    {
     "data": {
      "text/plain": [
       "3"
      ]
     },
     "execution_count": 14,
     "metadata": {},
     "output_type": "execute_result"
    }
   ],
   "source": [
    "x_label.max()"
   ]
  },
  {
   "cell_type": "code",
   "execution_count": 15,
   "metadata": {},
   "outputs": [
    {
     "data": {
      "text/plain": [
       "array([35, 98, 25, ..., 76, 36, 69])"
      ]
     },
     "execution_count": 15,
     "metadata": {},
     "output_type": "execute_result"
    }
   ],
   "source": [
    "x_train"
   ]
  },
  {
   "cell_type": "code",
   "execution_count": 16,
   "metadata": {},
   "outputs": [],
   "source": [
    "scaler=MinMaxScaler(feature_range=(0, 1))\n",
    "scaler2=LabelEncoder() #to make 0/1"
   ]
  },
  {
   "cell_type": "code",
   "execution_count": 17,
   "metadata": {},
   "outputs": [
    {
     "data": {
      "text/plain": [
       "(2100,)"
      ]
     },
     "execution_count": 17,
     "metadata": {},
     "output_type": "execute_result"
    }
   ],
   "source": [
    "x_train.shape"
   ]
  },
  {
   "cell_type": "code",
   "execution_count": 18,
   "metadata": {},
   "outputs": [
    {
     "data": {
      "text/plain": [
       "(2100,)"
      ]
     },
     "execution_count": 18,
     "metadata": {},
     "output_type": "execute_result"
    }
   ],
   "source": [
    "x_label.shape"
   ]
  },
  {
   "cell_type": "code",
   "execution_count": 19,
   "metadata": {},
   "outputs": [],
   "source": [
    "# x_train=x_train.reshape(2100,1)\n",
    "# x_label=x_label.reshape(2100,1)"
   ]
  },
  {
   "cell_type": "code",
   "execution_count": 20,
   "metadata": {},
   "outputs": [
    {
     "data": {
      "text/plain": [
       "(2100,)"
      ]
     },
     "execution_count": 20,
     "metadata": {},
     "output_type": "execute_result"
    }
   ],
   "source": [
    "x_train.shape"
   ]
  },
  {
   "cell_type": "code",
   "execution_count": 21,
   "metadata": {},
   "outputs": [
    {
     "name": "stderr",
     "output_type": "stream",
     "text": [
      "/home/ania/anaconda3/lib/python3.6/site-packages/sklearn/utils/validation.py:475: DataConversionWarning: Data with input dtype int64 was converted to float64 by MinMaxScaler.\n",
      "  warnings.warn(msg, DataConversionWarning)\n"
     ]
    }
   ],
   "source": [
    "scaled_xtrain=scaler.fit_transform((x_train).reshape(-1,1)) #this to make 2100,1\n",
    "scaled_x_label=scaler2.fit_transform((x_label)) #will do 2100,1 later"
   ]
  },
  {
   "cell_type": "code",
   "execution_count": 22,
   "metadata": {
    "scrolled": true
   },
   "outputs": [
    {
     "data": {
      "text/plain": [
       "array([[0.25287356],\n",
       "       [0.97701149],\n",
       "       [0.13793103],\n",
       "       ...,\n",
       "       [0.72413793],\n",
       "       [0.26436782],\n",
       "       [0.64367816]])"
      ]
     },
     "execution_count": 22,
     "metadata": {},
     "output_type": "execute_result"
    }
   ],
   "source": [
    "scaled_xtrain"
   ]
  },
  {
   "cell_type": "code",
   "execution_count": 23,
   "metadata": {},
   "outputs": [
    {
     "data": {
      "text/plain": [
       "array([0, 1, 0, ..., 1, 0, 1])"
      ]
     },
     "execution_count": 23,
     "metadata": {},
     "output_type": "execute_result"
    }
   ],
   "source": [
    "scaled_x_label"
   ]
  },
  {
   "cell_type": "code",
   "execution_count": 24,
   "metadata": {},
   "outputs": [],
   "source": [
    "# scaled_x_label=scaled_x_label.reshape(2100,1)"
   ]
  },
  {
   "cell_type": "code",
   "execution_count": 25,
   "metadata": {},
   "outputs": [
    {
     "data": {
      "text/plain": [
       "(2100,)"
      ]
     },
     "execution_count": 25,
     "metadata": {},
     "output_type": "execute_result"
    }
   ],
   "source": [
    "x_label.shape"
   ]
  },
  {
   "cell_type": "code",
   "execution_count": 26,
   "metadata": {},
   "outputs": [
    {
     "name": "stderr",
     "output_type": "stream",
     "text": [
      "/home/ania/anaconda3/lib/python3.6/site-packages/h5py/__init__.py:36: FutureWarning: Conversion of the second argument of issubdtype from `float` to `np.floating` is deprecated. In future, it will be treated as `np.float64 == np.dtype(float).type`.\n",
      "  from ._conv import register_converters as _register_converters\n",
      "Using TensorFlow backend.\n"
     ]
    }
   ],
   "source": [
    "import keras\n",
    "from keras import backend as K\n",
    "from keras.models import Sequential\n",
    "from keras.layers.core import Dense,Dropout\n",
    "from keras.layers import activations\n",
    "from keras.optimizers import Adam\n",
    "from keras.metrics import categorical_crossentropy"
   ]
  },
  {
   "cell_type": "code",
   "execution_count": 27,
   "metadata": {},
   "outputs": [],
   "source": [
    "# scaled_x_label=keras.utils.to_categorical(x_label,num_classes=2) #was not working with number 2/3"
   ]
  },
  {
   "cell_type": "code",
   "execution_count": 27,
   "metadata": {},
   "outputs": [],
   "source": [
    "#either use softmax two class and sparse_categorical cross entropy since it is not one hot coded \n",
    "#or use 1 class at end and use sigmoid but with binary cross entropy, similar results\n",
    "model=Sequential([\n",
    "    Dense(16,input_shape=(1,),activation='relu'),   \n",
    "    # now the model will take as input arrays of shape (*, 1)\n",
    "    # and output arrays of shape (*, 16)\n",
    "    Dense(32,activation='relu'),\n",
    "    # and output arrays of shape (*, 16)\n",
    "    Dense(2,activation='softmax')\n",
    "    # and output arrays of shape (*, 2) \n",
    "])\n",
    "\n",
    "\n",
    "# model=Sequential([\n",
    "#     Dense(16,input_shape=(1,),activation='relu'),   \n",
    "#     # now the model will take as input arrays of shape (*, 1)\n",
    "#     # and output arrays of shape (*, 16)\n",
    "#     Dense(32,activation='relu'),\n",
    "#     # and output arrays of shape (*, 16)\n",
    "#     Dense(1,activation='sigmoid')\n",
    "#     # and output arrays of shape (*, 2) \n",
    "# ])"
   ]
  },
  {
   "cell_type": "code",
   "execution_count": 28,
   "metadata": {},
   "outputs": [
    {
     "name": "stdout",
     "output_type": "stream",
     "text": [
      "_________________________________________________________________\n",
      "Layer (type)                 Output Shape              Param #   \n",
      "=================================================================\n",
      "dense_1 (Dense)              (None, 16)                32        \n",
      "_________________________________________________________________\n",
      "dense_2 (Dense)              (None, 32)                544       \n",
      "_________________________________________________________________\n",
      "dense_3 (Dense)              (None, 2)                 66        \n",
      "=================================================================\n",
      "Total params: 642\n",
      "Trainable params: 642\n",
      "Non-trainable params: 0\n",
      "_________________________________________________________________\n"
     ]
    }
   ],
   "source": [
    "model.summary()   #16*1+16, 16*32+32,32*2+2 paramter number"
   ]
  },
  {
   "cell_type": "code",
   "execution_count": 29,
   "metadata": {},
   "outputs": [],
   "source": [
    "model.compile(optimizer='adam',loss='sparse_categorical_crossentropy',metrics=['accuracy'])\n",
    "#model.compile(optimizer='adam',loss='binary_crossentropy',metrics=['accuracy'])\n",
    "#is using sparse categorical cross_entropy since the labels are 0 and 1 but not onehot coded, \n",
    "#if onehot coded use categorical cross entropy\n"
   ]
  },
  {
   "cell_type": "code",
   "execution_count": 30,
   "metadata": {
    "scrolled": true
   },
   "outputs": [
    {
     "name": "stdout",
     "output_type": "stream",
     "text": [
      "Train on 1890 samples, validate on 210 samples\n",
      "Epoch 1/20\n",
      " - 0s - loss: 0.5607 - acc: 0.7079 - val_loss: 0.4031 - val_acc: 0.8714\n",
      "Epoch 2/20\n",
      " - 0s - loss: 0.2558 - acc: 0.9370 - val_loss: 0.1387 - val_acc: 0.9857\n",
      "Epoch 3/20\n",
      " - 0s - loss: 0.1152 - acc: 0.9799 - val_loss: 0.0784 - val_acc: 1.0000\n",
      "Epoch 4/20\n",
      " - 0s - loss: 0.0781 - acc: 0.9889 - val_loss: 0.0548 - val_acc: 0.9905\n",
      "Epoch 5/20\n",
      " - 0s - loss: 0.0624 - acc: 0.9910 - val_loss: 0.0445 - val_acc: 0.9905\n",
      "Epoch 6/20\n",
      " - 0s - loss: 0.0545 - acc: 0.9899 - val_loss: 0.0379 - val_acc: 0.9905\n",
      "Epoch 7/20\n",
      " - 0s - loss: 0.0473 - acc: 0.9894 - val_loss: 0.0443 - val_acc: 0.9857\n",
      "Epoch 8/20\n",
      " - 0s - loss: 0.0431 - acc: 0.9921 - val_loss: 0.0311 - val_acc: 1.0000\n",
      "Epoch 9/20\n",
      " - 0s - loss: 0.0388 - acc: 0.9937 - val_loss: 0.0278 - val_acc: 1.0000\n",
      "Epoch 10/20\n",
      " - 0s - loss: 0.0361 - acc: 0.9947 - val_loss: 0.0278 - val_acc: 1.0000\n",
      "Epoch 11/20\n",
      " - 0s - loss: 0.0340 - acc: 0.9915 - val_loss: 0.0261 - val_acc: 0.9857\n",
      "Epoch 12/20\n",
      " - 0s - loss: 0.0315 - acc: 0.9952 - val_loss: 0.0229 - val_acc: 1.0000\n",
      "Epoch 13/20\n",
      " - 0s - loss: 0.0300 - acc: 0.9947 - val_loss: 0.0218 - val_acc: 1.0000\n",
      "Epoch 14/20\n",
      " - 0s - loss: 0.0280 - acc: 0.9931 - val_loss: 0.0360 - val_acc: 0.9714\n",
      "Epoch 15/20\n",
      " - 0s - loss: 0.0282 - acc: 0.9937 - val_loss: 0.0196 - val_acc: 1.0000\n",
      "Epoch 16/20\n",
      " - 0s - loss: 0.0262 - acc: 0.9958 - val_loss: 0.0192 - val_acc: 1.0000\n",
      "Epoch 17/20\n",
      " - 0s - loss: 0.0245 - acc: 0.9942 - val_loss: 0.0182 - val_acc: 1.0000\n",
      "Epoch 18/20\n",
      " - 0s - loss: 0.0229 - acc: 0.9958 - val_loss: 0.0182 - val_acc: 0.9905\n",
      "Epoch 19/20\n",
      " - 0s - loss: 0.0239 - acc: 0.9937 - val_loss: 0.0170 - val_acc: 0.9905\n",
      "Epoch 20/20\n",
      " - 0s - loss: 0.0202 - acc: 0.9958 - val_loss: 0.0178 - val_acc: 0.9905\n"
     ]
    },
    {
     "data": {
      "text/plain": [
       "<keras.callbacks.History at 0x7f8688f18b38>"
      ]
     },
     "execution_count": 30,
     "metadata": {},
     "output_type": "execute_result"
    }
   ],
   "source": [
    "model.fit(scaled_xtrain,scaled_x_label,batch_size=10,epochs=20,validation_split=0.1,shuffle=True,verbose=2)\n",
    "#instead of validation_split, can creat a set for validation, validation_data=validation_set"
   ]
  },
  {
   "cell_type": "code",
   "execution_count": 31,
   "metadata": {},
   "outputs": [],
   "source": [
    "predict=model.predict(scaled_xtrain, batch_size=10, verbose=0) "
   ]
  },
  {
   "cell_type": "code",
   "execution_count": 32,
   "metadata": {},
   "outputs": [
    {
     "data": {
      "text/plain": [
       "array([[9.9999785e-01, 2.1161372e-06],\n",
       "       [1.4160091e-09, 1.0000000e+00],\n",
       "       [9.9999821e-01, 1.8181079e-06],\n",
       "       ...,\n",
       "       [4.4341115e-05, 9.9995565e-01],\n",
       "       [9.9999785e-01, 2.1485025e-06],\n",
       "       [5.6705051e-03, 9.9432951e-01]], dtype=float32)"
      ]
     },
     "execution_count": 32,
     "metadata": {},
     "output_type": "execute_result"
    }
   ],
   "source": [
    "predict"
   ]
  },
  {
   "cell_type": "code",
   "execution_count": 33,
   "metadata": {
    "scrolled": true
   },
   "outputs": [],
   "source": [
    "predict_round=np.argmax(predict,axis=1)\n",
    "#predict_round=predict.round()"
   ]
  },
  {
   "cell_type": "code",
   "execution_count": 35,
   "metadata": {},
   "outputs": [
    {
     "data": {
      "text/plain": [
       "array([0, 1, 0, ..., 1, 0, 1])"
      ]
     },
     "execution_count": 35,
     "metadata": {},
     "output_type": "execute_result"
    }
   ],
   "source": [
    "#predict_round[:,0]\n",
    "predict_round"
   ]
  },
  {
   "cell_type": "code",
   "execution_count": 98,
   "metadata": {},
   "outputs": [
    {
     "data": {
      "text/plain": [
       "array([0, 1, 0, ..., 1, 0, 1])"
      ]
     },
     "execution_count": 98,
     "metadata": {},
     "output_type": "execute_result"
    }
   ],
   "source": [
    "scaled_x_label"
   ]
  },
  {
   "cell_type": "code",
   "execution_count": 37,
   "metadata": {},
   "outputs": [
    {
     "data": {
      "text/plain": [
       "0.9914285714285714"
      ]
     },
     "execution_count": 37,
     "metadata": {},
     "output_type": "execute_result"
    }
   ],
   "source": [
    "np.mean(predict_round==scaled_x_label) #[:,0] to get numbers without arrays"
   ]
  },
  {
   "cell_type": "code",
   "execution_count": 38,
   "metadata": {},
   "outputs": [
    {
     "data": {
      "text/plain": [
       "array([0, 1, 0, 1, 0, 1, 0, 1, 0, 1, 0, 1, 0, 1, 0])"
      ]
     },
     "execution_count": 38,
     "metadata": {},
     "output_type": "execute_result"
    }
   ],
   "source": [
    "predict_round[0:15]"
   ]
  },
  {
   "cell_type": "code",
   "execution_count": 39,
   "metadata": {},
   "outputs": [
    {
     "data": {
      "text/plain": [
       "array([0, 1, 0, 1, 0, 1, 0, 1, 0, 1, 0, 1, 0, 1, 0])"
      ]
     },
     "execution_count": 39,
     "metadata": {},
     "output_type": "execute_result"
    }
   ],
   "source": [
    "scaled_x_label[0:15]"
   ]
  },
  {
   "cell_type": "code",
   "execution_count": 48,
   "metadata": {},
   "outputs": [],
   "source": [
    "import matplotlib.pyplot as plt"
   ]
  },
  {
   "cell_type": "code",
   "execution_count": 49,
   "metadata": {},
   "outputs": [
    {
     "data": {
      "text/plain": [
       "<matplotlib.collections.PathCollection at 0x7f624e338eb8>"
      ]
     },
     "execution_count": 49,
     "metadata": {},
     "output_type": "execute_result"
    },
    {
     "data": {
      "image/png": "[encoded data removed]",
      "text/plain": [
       "<Figure size 432x288 with 1 Axes>"
      ]
     },
     "metadata": {},
     "output_type": "display_data"
    }
   ],
   "source": [
    "plt.scatter(scaled_xtrain,scaled_x_label,marker='o')\n",
    "plt.scatter(scaled_xtrain,predict_round,marker='X')\n"
   ]
  },
  {
   "cell_type": "markdown",
   "metadata": {},
   "source": [
    "# get test data"
   ]
  },
  {
   "cell_type": "code",
   "execution_count": null,
   "metadata": {},
   "outputs": [],
   "source": [
    "\n",
    "\n",
    "for i in range(10):\n",
    "    # The 5% of younger individuals who did experience side effects\n",
    "    random_younger = randint(13,64)\n",
    "    x_train.append(random_younger)\n",
    "    x_label.append(2)\n",
    "    \n",
    "    # The 5% of older individuals who did not experience side effects\n",
    "    random_older = randint(65,100)\n",
    "    x_train.append(random_older)\n",
    "    x_label.append(3)\n",
    "\n",
    "for i in range(200):\n",
    "    # The 95% of younger individuals who did not experience side effects\n",
    "    random_younger = randint(13,64)\n",
    "    x_train.append(random_younger)\n",
    "    x_label.append(2)\n",
    "    \n",
    "    # The 95% of older individuals who did experience side effects\n",
    "    random_older = randint(65,100)\n",
    "    x_train.append(random_older)\n",
    "    x_label.append(3)"
   ]
  }
 ],
 "metadata": {
  "kernelspec": {
   "display_name": "Python 3",
   "language": "python",
   "name": "python3"
  },
  "language_info": {
   "codemirror_mode": {
    "name": "ipython",
    "version": 3
   },
   "file_extension": ".py",
   "mimetype": "text/x-python",
   "name": "python",
   "nbconvert_exporter": "python",
   "pygments_lexer": "ipython3",
   "version": "3.6.5"
  }
 },
 "nbformat": 4,
 "nbformat_minor": 2
}
