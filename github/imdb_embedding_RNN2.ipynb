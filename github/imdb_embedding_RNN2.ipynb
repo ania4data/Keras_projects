{
 "cells": [
  {
   "cell_type": "code",
   "execution_count": 18,
   "metadata": {},
   "outputs": [],
   "source": [
    "import keras\n",
    "from keras.datasets import imdb\n",
    "import matplotlib.pyplot as plt\n",
    "from keras import preprocessing"
   ]
  },
  {
   "cell_type": "code",
   "execution_count": 30,
   "metadata": {},
   "outputs": [],
   "source": [
    "max_feature=10000  # maimum words vocab size\n",
    "max_len=200  #number of vocan words per review"
   ]
  },
  {
   "cell_type": "code",
   "execution_count": 31,
   "metadata": {},
   "outputs": [],
   "source": [
    "(x_train_,y_train),(x_test_,y_test)=imdb.load_data(num_words=max_feature)"
   ]
  },
  {
   "cell_type": "code",
   "execution_count": 32,
   "metadata": {},
   "outputs": [
    {
     "name": "stdout",
     "output_type": "stream",
     "text": [
      "218\n"
     ]
    }
   ],
   "source": [
    "print(len(x_train_[0]))"
   ]
  },
  {
   "cell_type": "code",
   "execution_count": 33,
   "metadata": {},
   "outputs": [
    {
     "name": "stdout",
     "output_type": "stream",
     "text": [
      "[1, 14, 22, 16, 43, 530, 973, 1622, 1385, 65, 458, 4468, 66, 3941, 4, 173, 36, 256, 5, 25, 100, 43, 838, 112, 50, 670, 2, 9, 35, 480, 284, 5, 150, 4, 172, 112, 167, 2, 336, 385, 39, 4, 172, 4536, 1111, 17, 546, 38, 13, 447, 4, 192, 50, 16, 6, 147, 2025, 19, 14, 22, 4, 1920, 4613, 469, 4, 22, 71, 87, 12, 16, 43, 530, 38, 76, 15, 13, 1247, 4, 22, 17, 515, 17, 12, 16, 626, 18, 2, 5, 62, 386, 12, 8, 316, 8, 106, 5, 4, 2223, 5244, 16, 480, 66, 3785, 33, 4, 130, 12, 16, 38, 619, 5, 25, 124, 51, 36, 135, 48, 25, 1415, 33, 6, 22, 12, 215, 28, 77, 52, 5, 14, 407, 16, 82, 2, 8, 4, 107, 117, 5952, 15, 256, 4, 2, 7, 3766, 5, 723, 36, 71, 43, 530, 476, 26, 400, 317, 46, 7, 4, 2, 1029, 13, 104, 88, 4, 381, 15, 297, 98, 32, 2071, 56, 26, 141, 6, 194, 7486, 18, 4, 226, 22, 21, 134, 476, 26, 480, 5, 144, 30, 5535, 18, 51, 36, 28, 224, 92, 25, 104, 4, 226, 65, 16, 38, 1334, 88, 12, 16, 283, 5, 16, 4472, 113, 103, 32, 15, 16, 5345, 19, 178, 32]\n"
     ]
    }
   ],
   "source": [
    "print(x_train_[0])"
   ]
  },
  {
   "cell_type": "code",
   "execution_count": 34,
   "metadata": {},
   "outputs": [
    {
     "data": {
      "text/plain": [
       "1"
      ]
     },
     "execution_count": 34,
     "metadata": {},
     "output_type": "execute_result"
    }
   ],
   "source": [
    "y_train[0]"
   ]
  },
  {
   "cell_type": "code",
   "execution_count": 35,
   "metadata": {},
   "outputs": [
    {
     "name": "stdout",
     "output_type": "stream",
     "text": [
      "25000 25000\n"
     ]
    }
   ],
   "source": [
    "print(len(x_train_),len(x_test_))"
   ]
  },
  {
   "cell_type": "code",
   "execution_count": 36,
   "metadata": {},
   "outputs": [],
   "source": [
    "#This is with 'pre' padding and back of the list is used\n",
    "#     if truncating == 'pre':\n",
    "#       trunc = s[-maxlen:]  # pylint: disable=invalid-unary-operand-type\n",
    "#     elif truncating == 'post':\n",
    "#       trunc = s[:maxlen]\n",
    "\n",
    "\n",
    "x_train=preprocessing.sequence.pad_sequences(x_train_,maxlen=max_len)"
   ]
  },
  {
   "cell_type": "code",
   "execution_count": 37,
   "metadata": {},
   "outputs": [],
   "source": [
    "x_test=preprocessing.sequence.pad_sequences(x_test_,maxlen=max_len)"
   ]
  },
  {
   "cell_type": "code",
   "execution_count": 38,
   "metadata": {},
   "outputs": [
    {
     "data": {
      "text/plain": [
       "array([   0,    0,    0,    0,    0,    0,    0,    0,    0,    0,    0,\n",
       "          1,  194, 1153,  194, 8255,   78,  228,    5,    6, 1463, 4369,\n",
       "       5012,  134,   26,    4,  715,    8,  118, 1634,   14,  394,   20,\n",
       "         13,  119,  954,  189,  102,    5,  207,  110, 3103,   21,   14,\n",
       "         69,  188,    8,   30,   23,    7,    4,  249,  126,   93,    4,\n",
       "        114,    9, 2300, 1523,    5,  647,    4,  116,    9,   35, 8163,\n",
       "          4,  229,    9,  340, 1322,    4,  118,    9,    4,  130, 4901,\n",
       "         19,    4, 1002,    5,   89,   29,  952,   46,   37,    4,  455,\n",
       "          9,   45,   43,   38, 1543, 1905,  398,    4, 1649,   26, 6853,\n",
       "          5,  163,   11, 3215,    2,    4, 1153,    9,  194,  775,    7,\n",
       "       8255,    2,  349, 2637,  148,  605,    2, 8003,   15,  123,  125,\n",
       "         68,    2, 6853,   15,  349,  165, 4362,   98,    5,    4,  228,\n",
       "          9,   43,    2, 1157,   15,  299,  120,    5,  120,  174,   11,\n",
       "        220,  175,  136,   50,    9, 4373,  228, 8255,    5,    2,  656,\n",
       "        245, 2350,    5,    4, 9837,  131,  152,  491,   18,    2,   32,\n",
       "       7464, 1212,   14,    9,    6,  371,   78,   22,  625,   64, 1382,\n",
       "          9,    8,  168,  145,   23,    4, 1690,   15,   16,    4, 1355,\n",
       "          5,   28,    6,   52,  154,  462,   33,   89,   78,  285,   16,\n",
       "        145,   95], dtype=int32)"
      ]
     },
     "execution_count": 38,
     "metadata": {},
     "output_type": "execute_result"
    }
   ],
   "source": [
    "x_train[1]"
   ]
  },
  {
   "cell_type": "code",
   "execution_count": 39,
   "metadata": {},
   "outputs": [
    {
     "data": {
      "text/plain": [
       "(25000, 200)"
      ]
     },
     "execution_count": 39,
     "metadata": {},
     "output_type": "execute_result"
    }
   ],
   "source": [
    "x_train.shape"
   ]
  },
  {
   "cell_type": "code",
   "execution_count": 40,
   "metadata": {},
   "outputs": [
    {
     "data": {
      "text/plain": [
       "array([   0,    0,    0,    0,    0,    0,    0,    0,    0,    0,    0,\n",
       "          1,  194, 1153,  194, 8255,   78,  228,    5,    6, 1463, 4369,\n",
       "       5012,  134,   26,    4,  715,    8,  118, 1634,   14,  394,   20,\n",
       "         13,  119,  954,  189,  102,    5,  207,  110, 3103,   21,   14,\n",
       "         69,  188,    8,   30,   23,    7,    4,  249,  126,   93,    4,\n",
       "        114,    9, 2300, 1523,    5,  647,    4,  116,    9,   35, 8163,\n",
       "          4,  229,    9,  340, 1322,    4,  118,    9,    4,  130, 4901,\n",
       "         19,    4, 1002,    5,   89,   29,  952,   46,   37,    4,  455,\n",
       "          9,   45,   43,   38, 1543, 1905,  398,    4, 1649,   26, 6853,\n",
       "          5,  163,   11, 3215,    2,    4, 1153,    9,  194,  775,    7,\n",
       "       8255,    2,  349, 2637,  148,  605,    2, 8003,   15,  123,  125,\n",
       "         68,    2, 6853,   15,  349,  165, 4362,   98,    5,    4,  228,\n",
       "          9,   43,    2, 1157,   15,  299,  120,    5,  120,  174,   11,\n",
       "        220,  175,  136,   50,    9, 4373,  228, 8255,    5,    2,  656,\n",
       "        245, 2350,    5,    4, 9837,  131,  152,  491,   18,    2,   32,\n",
       "       7464, 1212,   14,    9,    6,  371,   78,   22,  625,   64, 1382,\n",
       "          9,    8,  168,  145,   23,    4, 1690,   15,   16,    4, 1355,\n",
       "          5,   28,    6,   52,  154,  462,   33,   89,   78,  285,   16,\n",
       "        145,   95], dtype=int32)"
      ]
     },
     "execution_count": 40,
     "metadata": {},
     "output_type": "execute_result"
    }
   ],
   "source": [
    "x_train[1]   #this is back of the list of 20 words not front of list!"
   ]
  },
  {
   "cell_type": "code",
   "execution_count": 41,
   "metadata": {},
   "outputs": [
    {
     "name": "stdout",
     "output_type": "stream",
     "text": [
      "[1, 194, 1153, 194, 8255, 78, 228, 5, 6, 1463, 4369, 5012, 134, 26, 4, 715, 8, 118, 1634, 14, 394, 20, 13, 119, 954, 189, 102, 5, 207, 110, 3103, 21, 14, 69, 188, 8, 30, 23, 7, 4, 249, 126, 93, 4, 114, 9, 2300, 1523, 5, 647, 4, 116, 9, 35, 8163, 4, 229, 9, 340, 1322, 4, 118, 9, 4, 130, 4901, 19, 4, 1002, 5, 89, 29, 952, 46, 37, 4, 455, 9, 45, 43, 38, 1543, 1905, 398, 4, 1649, 26, 6853, 5, 163, 11, 3215, 2, 4, 1153, 9, 194, 775, 7, 8255, 2, 349, 2637, 148, 605, 2, 8003, 15, 123, 125, 68, 2, 6853, 15, 349, 165, 4362, 98, 5, 4, 228, 9, 43, 2, 1157, 15, 299, 120, 5, 120, 174, 11, 220, 175, 136, 50, 9, 4373, 228, 8255, 5, 2, 656, 245, 2350, 5, 4, 9837, 131, 152, 491, 18, 2, 32, 7464, 1212, 14, 9, 6, 371, 78, 22, 625, 64, 1382, 9, 8, 168, 145, 23, 4, 1690, 15, 16, 4, 1355, 5, 28, 6, 52, 154, 462, 33, 89, 78, 285, 16, 145, 95]\n"
     ]
    }
   ],
   "source": [
    "print(x_train_[1])"
   ]
  },
  {
   "cell_type": "code",
   "execution_count": 43,
   "metadata": {},
   "outputs": [
    {
     "name": "stdout",
     "output_type": "stream",
     "text": [
      "_________________________________________________________________\n",
      "Layer (type)                 Output Shape              Param #   \n",
      "=================================================================\n",
      "embedding_3 (Embedding)      (None, 200, 32)           320000    \n",
      "_________________________________________________________________\n",
      "simple_rnn_8 (SimpleRNN)     (None, 200, 32)           2080      \n",
      "_________________________________________________________________\n",
      "simple_rnn_9 (SimpleRNN)     (None, 200, 32)           2080      \n",
      "_________________________________________________________________\n",
      "simple_rnn_10 (SimpleRNN)    (None, 200, 32)           2080      \n",
      "_________________________________________________________________\n",
      "simple_rnn_11 (SimpleRNN)    (None, 32)                2080      \n",
      "_________________________________________________________________\n",
      "dense_3 (Dense)              (None, 1)                 33        \n",
      "=================================================================\n",
      "Total params: 328,353\n",
      "Trainable params: 328,353\n",
      "Non-trainable params: 0\n",
      "_________________________________________________________________\n"
     ]
    }
   ],
   "source": [
    "from keras.models import Sequential\n",
    "from keras.layers import Flatten,Dense,Embedding,Dropout,SimpleRNN\n",
    "\n",
    "\n",
    "model=Sequential()\n",
    "model.add(Embedding(max_feature,32,input_length=max_len)) #dense layer 8 => sample * max_len*8\n",
    "#model.add(Flatten())\n",
    "#model.add(Dense(64,activation='relu'))\n",
    "model.add(SimpleRNN(32,return_sequences=True))\n",
    "model.add(SimpleRNN(32,return_sequences=True))\n",
    "model.add(SimpleRNN(32,return_sequences=True))\n",
    "model.add(SimpleRNN(32)) #number of RNN is 500 (time), and each RNN link has 32 size vec\n",
    "#model.add(Dropout(0.5))\n",
    "model.add(Dense(1,activation='sigmoid'))\n",
    "\n",
    "model.summary()"
   ]
  },
  {
   "cell_type": "code",
   "execution_count": 44,
   "metadata": {},
   "outputs": [],
   "source": [
    "model.compile(optimizer='adam',loss='binary_crossentropy',metrics=['acc'])"
   ]
  },
  {
   "cell_type": "code",
   "execution_count": 45,
   "metadata": {},
   "outputs": [
    {
     "name": "stdout",
     "output_type": "stream",
     "text": [
      "Train on 20000 samples, validate on 5000 samples\n",
      "Epoch 1/10\n",
      "20000/20000 [==============================] - 224s 11ms/step - loss: 0.6848 - acc: 0.5407 - val_loss: 0.6449 - val_acc: 0.6214\n",
      "Epoch 2/10\n",
      "20000/20000 [==============================] - 173s 9ms/step - loss: 0.6103 - acc: 0.6594 - val_loss: 0.5760 - val_acc: 0.6992\n",
      "Epoch 3/10\n",
      "20000/20000 [==============================] - 174s 9ms/step - loss: 0.4691 - acc: 0.7823 - val_loss: 0.5794 - val_acc: 0.7128\n",
      "Epoch 4/10\n",
      "20000/20000 [==============================] - 172s 9ms/step - loss: 0.3992 - acc: 0.8229 - val_loss: 0.7212 - val_acc: 0.6572\n",
      "Epoch 5/10\n",
      "20000/20000 [==============================] - 171s 9ms/step - loss: 0.3091 - acc: 0.8734 - val_loss: 0.5651 - val_acc: 0.7534\n",
      "Epoch 6/10\n",
      "20000/20000 [==============================] - 170s 9ms/step - loss: 0.2731 - acc: 0.8890 - val_loss: 0.6939 - val_acc: 0.7140\n",
      "Epoch 7/10\n",
      "20000/20000 [==============================] - 170s 9ms/step - loss: 0.2446 - acc: 0.9045 - val_loss: 0.7335 - val_acc: 0.7050\n",
      "Epoch 8/10\n",
      "20000/20000 [==============================] - 170s 9ms/step - loss: 0.1515 - acc: 0.9473 - val_loss: 0.7666 - val_acc: 0.7120\n",
      "Epoch 9/10\n",
      "20000/20000 [==============================] - 170s 8ms/step - loss: 0.1877 - acc: 0.9280 - val_loss: 0.8346 - val_acc: 0.7078\n",
      "Epoch 10/10\n",
      "20000/20000 [==============================] - 172s 9ms/step - loss: 0.2090 - acc: 0.9164 - val_loss: 0.8978 - val_acc: 0.6398\n"
     ]
    }
   ],
   "source": [
    "history=model.fit(x_train,y_train,epochs=10,batch_size=32,validation_split=0.2)"
   ]
  },
  {
   "cell_type": "code",
   "execution_count": 46,
   "metadata": {},
   "outputs": [
    {
     "name": "stdout",
     "output_type": "stream",
     "text": [
      "25000/25000 [==============================] - 59s 2ms/step\n"
     ]
    },
    {
     "data": {
      "text/plain": [
       "[0.9090666658020019, 0.64412]"
      ]
     },
     "execution_count": 46,
     "metadata": {},
     "output_type": "execute_result"
    }
   ],
   "source": [
    "model.evaluate(x_test,y_test)"
   ]
  },
  {
   "cell_type": "code",
   "execution_count": 47,
   "metadata": {},
   "outputs": [
    {
     "data": {
      "image/png": "[encoded data removed]",
      "text/plain": [
       "<Figure size 432x288 with 1 Axes>"
      ]
     },
     "metadata": {},
     "output_type": "display_data"
    },
    {
     "data": {
      "image/png": "[encoded data removed]",
      "text/plain": [
       "<Figure size 432x288 with 1 Axes>"
      ]
     },
     "metadata": {},
     "output_type": "display_data"
    }
   ],
   "source": [
    "import matplotlib.pyplot as plt\n",
    "import numpy  as np\n",
    "list_epoch=np.arange(0,10)\n",
    "plt.plot(list_epoch,history.history['loss'])\n",
    "\n",
    "plt.plot(list_epoch,history.history['val_loss'])\n",
    "\n",
    "plt.legend(['train_loss','val_loss'])\n",
    "plt.show()\n",
    "\n",
    "\n",
    "plt.plot(list_epoch,history.history['acc'])\n",
    "\n",
    "plt.plot(list_epoch,history.history['val_acc'])\n",
    "plt.legend(['train_acc','val_acc'])\n",
    "plt.show()"
   ]
  },
  {
   "cell_type": "code",
   "execution_count": null,
   "metadata": {},
   "outputs": [],
   "source": []
  }
 ],
 "metadata": {
  "kernelspec": {
   "display_name": "Python 3",
   "language": "python",
   "name": "python3"
  },
  "language_info": {
   "codemirror_mode": {
    "name": "ipython",
    "version": 3
   },
   "file_extension": ".py",
   "mimetype": "text/x-python",
   "name": "python",
   "nbconvert_exporter": "python",
   "pygments_lexer": "ipython3",
   "version": "3.6.5"
  }
 },
 "nbformat": 4,
 "nbformat_minor": 2
}
