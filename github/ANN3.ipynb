{
 "cells": [
  {
   "cell_type": "code",
   "execution_count": 1,
   "metadata": {},
   "outputs": [],
   "source": [
    "import numpy as np\n",
    "from random import randint\n",
    "from sklearn.preprocessing import MinMaxScaler,LabelBinarizer,LabelEncoder,OneHotEncoder\n",
    "#https://jovianlin.io/cat-crossentropy-vs-sparse-cat-crossentropy/"
   ]
  },
  {
   "cell_type": "code",
   "execution_count": 2,
   "metadata": {},
   "outputs": [],
   "source": [
    "x_train=[]\n",
    "x_label=[]\n",
    "\n",
    "#from keras metrics.py\n",
    "# def categorical_accuracy(y_true, y_pred):\n",
    "#     return K.cast(K.equal(K.argmax(y_true, axis=-1),\n",
    "#                           K.argmax(y_pred, axis=-1)),\n",
    "#                   K.floatx())\n",
    "\n",
    "\n",
    "# def sparse_categorical_accuracy(y_true, y_pred):\n",
    "#     return K.cast(K.equal(K.max(y_true, axis=-1),\n",
    "#                           K.cast(K.argmax(y_pred, axis=-1), K.floatx())),\n",
    "#                   K.floatx())\n",
    "\n",
    "# https://jovianlin.io/cat-crossentropy-vs-sparse-cat-crossentropy/"
   ]
  },
  {
   "cell_type": "code",
   "execution_count": 3,
   "metadata": {},
   "outputs": [],
   "source": [
    "#had to use 2 or 3 since with 0/1 was confusing (accuracy was ok, \n",
    "#but label predict did not macth!),\n",
    "#then needed to use label encode to make 0/1\n",
    "#I think the problem was the first label was one and second label was 0\n",
    "#so basically it is possible since data had first instance as 1 in real data, class of first instance was 0\n",
    "#that's why for label real at 1, get probability of e.g. [0.8,0.2] since 1 come before 0 in real class 1 is assigned to that\n",
    "#guessing\n",
    "#if label set to 1 then 0, if encode it (become 0 then 1, the model get the encoders right with argmax\n",
    "\n",
    "# Note: when using the categorical_crossentropy loss, your targets should be in categorical format \n",
    "#(e.g. if you have 10 classes, the target for each sample should be a 10-dimensional vector that\n",
    "#is all-zeros except for a 1 at the index corresponding to the class of the sample). \n",
    "#In order to convert integer targets into categorical targets, you can use the Keras utility to_categorical:\n",
    "\n",
    "# from keras.utils.np_utils import to_categorical  make it one hot code\n",
    "\n",
    "# categorical_labels = to_categorical(int_labels, num_classes=None)\n",
    "\n",
    "# from keras.utils.np_utils import to_categorical  make it one hot code\n",
    "\n",
    "# Use 'softmax' and 'categorical_crossentropy' instead of 'sigmoid' and 'binary_crossentropy'.\n",
    "# By using the latter two, you're treating the problem as a multilabel problem, not a multiclass problem.\n",
    "\n",
    "for i in range(1000):\n",
    "    \n",
    "    random_younger = randint(13,64)\n",
    "    x_train.append(random_younger)\n",
    "    x_label.append(0)\n",
    "    \n",
    "\n",
    "    random_older = randint(65,100)\n",
    "    x_train.append(random_older)\n",
    "    x_label.append(1)\n",
    "\n",
    "for i in range(1000):\n",
    "    \n",
    "    random_younger = randint(13,64)\n",
    "    x_train.append(random_younger)\n",
    "    x_label.append(0)\n",
    "    \n",
    "   \n",
    "    random_older = randint(65,100)\n",
    "    x_train.append(random_older)\n",
    "    x_label.append(1)"
   ]
  },
  {
   "cell_type": "code",
   "execution_count": 4,
   "metadata": {},
   "outputs": [
    {
     "data": {
      "text/plain": [
       "[0, 1, 0, 1, 0, 1, 0, 1, 0, 1, 0, 1, 0, 1, 0]"
      ]
     },
     "execution_count": 4,
     "metadata": {},
     "output_type": "execute_result"
    }
   ],
   "source": [
    "x_label[0:15]"
   ]
  },
  {
   "cell_type": "code",
   "execution_count": 5,
   "metadata": {},
   "outputs": [],
   "source": [
    "#1050 young 13<<65yr ,50 side effect  1000 ok\n",
    "#1050 old 50 65< <100 yrs, side effect   1000 ok "
   ]
  },
  {
   "cell_type": "code",
   "execution_count": 6,
   "metadata": {},
   "outputs": [],
   "source": [
    "# x_young=np.random.randint(13,65,size=1000)\n",
    "# label_young=np.random.randint(0,1,size=1000)"
   ]
  },
  {
   "cell_type": "code",
   "execution_count": 7,
   "metadata": {},
   "outputs": [],
   "source": [
    "# x_old=np.random.randint(65,100,size=1000)\n",
    "# label_old=np.random.randint(0,1,size=1000)"
   ]
  },
  {
   "cell_type": "code",
   "execution_count": 8,
   "metadata": {},
   "outputs": [],
   "source": [
    "# x_young2=np.random.randint(13,65,size=50)\n",
    "# label_young2=np.random.randint(1,2,size=50)\n",
    "# x_old2=np.random.randint(65,100,size=50)\n",
    "# label_old2=np.random.randint(1,2,size=50)"
   ]
  },
  {
   "cell_type": "code",
   "execution_count": 9,
   "metadata": {},
   "outputs": [],
   "source": [
    "# x_train=np.concatenate((x_young,x_young2,x_old,x_old2),axis=0)"
   ]
  },
  {
   "cell_type": "code",
   "execution_count": 10,
   "metadata": {},
   "outputs": [],
   "source": [
    "# x_label=np.concatenate((label_young,label_young2,label_old,label_old2),axis=0)"
   ]
  },
  {
   "cell_type": "code",
   "execution_count": 11,
   "metadata": {},
   "outputs": [
    {
     "data": {
      "text/plain": [
       "4000"
      ]
     },
     "execution_count": 11,
     "metadata": {},
     "output_type": "execute_result"
    }
   ],
   "source": [
    "len(x_label)"
   ]
  },
  {
   "cell_type": "code",
   "execution_count": 12,
   "metadata": {},
   "outputs": [
    {
     "data": {
      "text/plain": [
       "[0, 1, 0, 1, 0, 1, 0, 1, 0, 1, 0, 1, 0, 1, 0]"
      ]
     },
     "execution_count": 12,
     "metadata": {},
     "output_type": "execute_result"
    }
   ],
   "source": [
    "x_label[0:15]"
   ]
  },
  {
   "cell_type": "code",
   "execution_count": 13,
   "metadata": {},
   "outputs": [],
   "source": [
    "x_train=np.array(x_train)\n",
    "x_label=np.array(x_label)"
   ]
  },
  {
   "cell_type": "code",
   "execution_count": 14,
   "metadata": {},
   "outputs": [
    {
     "data": {
      "text/plain": [
       "1"
      ]
     },
     "execution_count": 14,
     "metadata": {},
     "output_type": "execute_result"
    }
   ],
   "source": [
    "x_label.max()"
   ]
  },
  {
   "cell_type": "code",
   "execution_count": 15,
   "metadata": {},
   "outputs": [
    {
     "data": {
      "text/plain": [
       "array([47, 70, 52, ..., 84, 64, 76])"
      ]
     },
     "execution_count": 15,
     "metadata": {},
     "output_type": "execute_result"
    }
   ],
   "source": [
    "x_train"
   ]
  },
  {
   "cell_type": "code",
   "execution_count": 16,
   "metadata": {},
   "outputs": [],
   "source": [
    "scaler=MinMaxScaler(feature_range=(0, 1))\n",
    "#scaler2=LabelEncoder() #to make 0/1\n",
    "scaler2=OneHotEncoder(sparse=False)"
   ]
  },
  {
   "cell_type": "code",
   "execution_count": 17,
   "metadata": {},
   "outputs": [
    {
     "data": {
      "text/plain": [
       "(4000,)"
      ]
     },
     "execution_count": 17,
     "metadata": {},
     "output_type": "execute_result"
    }
   ],
   "source": [
    "x_train.shape"
   ]
  },
  {
   "cell_type": "code",
   "execution_count": 18,
   "metadata": {},
   "outputs": [
    {
     "data": {
      "text/plain": [
       "(4000,)"
      ]
     },
     "execution_count": 18,
     "metadata": {},
     "output_type": "execute_result"
    }
   ],
   "source": [
    "x_label.shape"
   ]
  },
  {
   "cell_type": "code",
   "execution_count": 19,
   "metadata": {},
   "outputs": [],
   "source": [
    "# x_train=x_train.reshape(2100,1)\n",
    "# x_label=x_label.reshape(2100,1)"
   ]
  },
  {
   "cell_type": "code",
   "execution_count": 20,
   "metadata": {},
   "outputs": [
    {
     "data": {
      "text/plain": [
       "(4000,)"
      ]
     },
     "execution_count": 20,
     "metadata": {},
     "output_type": "execute_result"
    }
   ],
   "source": [
    "x_train.shape"
   ]
  },
  {
   "cell_type": "code",
   "execution_count": 21,
   "metadata": {},
   "outputs": [
    {
     "name": "stderr",
     "output_type": "stream",
     "text": [
      "/home/ania/anaconda3/lib/python3.6/site-packages/h5py/__init__.py:36: FutureWarning: Conversion of the second argument of issubdtype from `float` to `np.floating` is deprecated. In future, it will be treated as `np.float64 == np.dtype(float).type`.\n",
      "  from ._conv import register_converters as _register_converters\n",
      "Using TensorFlow backend.\n",
      "/home/ania/anaconda3/lib/python3.6/site-packages/sklearn/utils/validation.py:475: DataConversionWarning: Data with input dtype int64 was converted to float64 by MinMaxScaler.\n",
      "  warnings.warn(msg, DataConversionWarning)\n"
     ]
    }
   ],
   "source": [
    "from keras.utils.np_utils import to_categorical\n",
    "\n",
    "\n",
    "scaled_xtrain=scaler.fit_transform((x_train).reshape(-1,1)) #this to make 2100,1\n",
    "scaled_x_label=scaler2.fit_transform((x_label).reshape(-1,1)) #will do 2100,1 later\n",
    "#scaled_x_label=to_categorical(x_label,num_classes=2)"
   ]
  },
  {
   "cell_type": "code",
   "execution_count": 22,
   "metadata": {
    "scrolled": true
   },
   "outputs": [
    {
     "data": {
      "text/plain": [
       "array([[0.3908046 ],\n",
       "       [0.65517241],\n",
       "       [0.44827586],\n",
       "       ...,\n",
       "       [0.81609195],\n",
       "       [0.5862069 ],\n",
       "       [0.72413793]])"
      ]
     },
     "execution_count": 22,
     "metadata": {},
     "output_type": "execute_result"
    }
   ],
   "source": [
    "scaled_xtrain"
   ]
  },
  {
   "cell_type": "code",
   "execution_count": 23,
   "metadata": {},
   "outputs": [
    {
     "data": {
      "text/plain": [
       "array([0, 1, 0, ..., 1, 0, 1])"
      ]
     },
     "execution_count": 23,
     "metadata": {},
     "output_type": "execute_result"
    }
   ],
   "source": [
    "x_label"
   ]
  },
  {
   "cell_type": "code",
   "execution_count": 24,
   "metadata": {},
   "outputs": [
    {
     "data": {
      "text/plain": [
       "array([[1., 0.],\n",
       "       [0., 1.],\n",
       "       [1., 0.],\n",
       "       ...,\n",
       "       [0., 1.],\n",
       "       [1., 0.],\n",
       "       [0., 1.]])"
      ]
     },
     "execution_count": 24,
     "metadata": {},
     "output_type": "execute_result"
    }
   ],
   "source": [
    "scaled_x_label"
   ]
  },
  {
   "cell_type": "code",
   "execution_count": 25,
   "metadata": {},
   "outputs": [],
   "source": [
    "# scaled_x_label=scaled_x_label.reshape(2100,1)"
   ]
  },
  {
   "cell_type": "code",
   "execution_count": 26,
   "metadata": {},
   "outputs": [
    {
     "data": {
      "text/plain": [
       "(4000,)"
      ]
     },
     "execution_count": 26,
     "metadata": {},
     "output_type": "execute_result"
    }
   ],
   "source": [
    "x_label.shape"
   ]
  },
  {
   "cell_type": "code",
   "execution_count": 27,
   "metadata": {},
   "outputs": [],
   "source": [
    "import keras\n",
    "from keras import backend as K\n",
    "from keras.models import Sequential\n",
    "from keras.layers.core import Dense,Dropout\n",
    "from keras.layers import activations\n",
    "from keras.optimizers import Adam\n",
    "from keras.metrics import categorical_crossentropy"
   ]
  },
  {
   "cell_type": "code",
   "execution_count": 28,
   "metadata": {},
   "outputs": [],
   "source": [
    "# scaled_x_label=keras.utils.to_categorical(x_label,num_classes=2) #was not working with number 2/3"
   ]
  },
  {
   "cell_type": "code",
   "execution_count": 29,
   "metadata": {},
   "outputs": [],
   "source": [
    "#either use softmax two class and sparse_categorical cross entropy since it is not one hot coded \n",
    "#or use 1 class at end and use sigmoid but with binary cross entropy, similar results\n",
    "model=Sequential([\n",
    "    Dense(16,input_shape=(1,),activation='relu'),   \n",
    "    # now the model will take as input arrays of shape (*, 1)\n",
    "    # and output arrays of shape (*, 16)\n",
    "    Dense(32,activation='relu'),\n",
    "    # and output arrays of shape (*, 16)\n",
    "    Dense(2,activation='softmax')\n",
    "    # and output arrays of shape (*, 2) \n",
    "])\n",
    "\n",
    "\n",
    "# model=Sequential([\n",
    "#     Dense(16,input_shape=(1,),activation='relu'),   \n",
    "#     # now the model will take as input arrays of shape (*, 1)\n",
    "#     # and output arrays of shape (*, 16)\n",
    "#     Dense(32,activation='relu'),\n",
    "#     # and output arrays of shape (*, 16)\n",
    "#     Dense(1,activation='sigmoid')\n",
    "#     # and output arrays of shape (*, 2) \n",
    "# ])"
   ]
  },
  {
   "cell_type": "code",
   "execution_count": 30,
   "metadata": {},
   "outputs": [
    {
     "name": "stdout",
     "output_type": "stream",
     "text": [
      "_________________________________________________________________\n",
      "Layer (type)                 Output Shape              Param #   \n",
      "=================================================================\n",
      "dense_1 (Dense)              (None, 16)                32        \n",
      "_________________________________________________________________\n",
      "dense_2 (Dense)              (None, 32)                544       \n",
      "_________________________________________________________________\n",
      "dense_3 (Dense)              (None, 2)                 66        \n",
      "=================================================================\n",
      "Total params: 642\n",
      "Trainable params: 642\n",
      "Non-trainable params: 0\n",
      "_________________________________________________________________\n"
     ]
    }
   ],
   "source": [
    "model.summary()   #16*1+16, 16*32+32,32*2+2 paramter number"
   ]
  },
  {
   "cell_type": "code",
   "execution_count": 31,
   "metadata": {},
   "outputs": [],
   "source": [
    "model.compile(optimizer='adam',loss='categorical_crossentropy',metrics=['accuracy'])\n",
    "#model.compile(optimizer='adam',loss='binary_crossentropy',metrics=['accuracy'])\n",
    "#is using sparse categorical cross_entropy since the labels are 0 and 1 but not onehot coded, \n",
    "#if onehot coded use categorical cross entropy\n"
   ]
  },
  {
   "cell_type": "code",
   "execution_count": 32,
   "metadata": {},
   "outputs": [],
   "source": [
    "from keras.callbacks import History \n"
   ]
  },
  {
   "cell_type": "code",
   "execution_count": 33,
   "metadata": {
    "scrolled": true
   },
   "outputs": [
    {
     "name": "stdout",
     "output_type": "stream",
     "text": [
      "Train on 3600 samples, validate on 400 samples\n",
      "Epoch 1/20\n",
      " - 1s - loss: 0.4058 - acc: 0.8314 - val_loss: 0.1677 - val_acc: 0.9600\n",
      "Epoch 2/20\n",
      " - 0s - loss: 0.1205 - acc: 0.9775 - val_loss: 0.0781 - val_acc: 0.9825\n",
      "Epoch 3/20\n",
      " - 1s - loss: 0.0721 - acc: 0.9875 - val_loss: 0.0553 - val_acc: 0.9875\n",
      "Epoch 4/20\n",
      " - 1s - loss: 0.0540 - acc: 0.9903 - val_loss: 0.0442 - val_acc: 0.9875\n",
      "Epoch 5/20\n",
      " - 1s - loss: 0.0444 - acc: 0.9911 - val_loss: 0.0367 - val_acc: 0.9875\n",
      "Epoch 6/20\n",
      " - 1s - loss: 0.0376 - acc: 0.9944 - val_loss: 0.0322 - val_acc: 1.0000\n",
      "Epoch 7/20\n",
      " - 1s - loss: 0.0340 - acc: 0.9939 - val_loss: 0.0363 - val_acc: 0.9825\n",
      "Epoch 8/20\n",
      " - 0s - loss: 0.0305 - acc: 0.9947 - val_loss: 0.0268 - val_acc: 0.9875\n",
      "Epoch 9/20\n",
      " - 0s - loss: 0.0277 - acc: 0.9933 - val_loss: 0.0233 - val_acc: 1.0000\n",
      "Epoch 10/20\n",
      " - 0s - loss: 0.0254 - acc: 0.9956 - val_loss: 0.0214 - val_acc: 1.0000\n",
      "Epoch 11/20\n",
      " - 1s - loss: 0.0234 - acc: 0.9944 - val_loss: 0.0198 - val_acc: 1.0000\n",
      "Epoch 12/20\n",
      " - 0s - loss: 0.0216 - acc: 0.9953 - val_loss: 0.0186 - val_acc: 1.0000\n",
      "Epoch 13/20\n",
      " - 1s - loss: 0.0203 - acc: 0.9975 - val_loss: 0.0228 - val_acc: 0.9875\n",
      "Epoch 14/20\n",
      " - 0s - loss: 0.0207 - acc: 0.9936 - val_loss: 0.0173 - val_acc: 0.9875\n",
      "Epoch 15/20\n",
      " - 1s - loss: 0.0185 - acc: 0.9967 - val_loss: 0.0150 - val_acc: 1.0000\n",
      "Epoch 16/20\n",
      " - 0s - loss: 0.0171 - acc: 0.9942 - val_loss: 0.0156 - val_acc: 0.9875\n",
      "Epoch 17/20\n",
      " - 0s - loss: 0.0163 - acc: 0.9972 - val_loss: 0.0134 - val_acc: 1.0000\n",
      "Epoch 18/20\n",
      " - 1s - loss: 0.0168 - acc: 0.9950 - val_loss: 0.0127 - val_acc: 1.0000\n",
      "Epoch 19/20\n",
      " - 1s - loss: 0.0167 - acc: 0.9956 - val_loss: 0.0132 - val_acc: 1.0000\n",
      "Epoch 20/20\n",
      " - 0s - loss: 0.0135 - acc: 0.9992 - val_loss: 0.0149 - val_acc: 0.9875\n"
     ]
    },
    {
     "data": {
      "text/plain": [
       "<keras.callbacks.History at 0x7f33240586d8>"
      ]
     },
     "execution_count": 33,
     "metadata": {},
     "output_type": "execute_result"
    }
   ],
   "source": [
    "model.fit(scaled_xtrain,scaled_x_label,batch_size=10,epochs=20,validation_split=0.1,shuffle=True,verbose=2)\n",
    "#instead of validation_split, can creat a set for validation, validation_data=validation_set"
   ]
  },
  {
   "cell_type": "code",
   "execution_count": 29,
   "metadata": {
    "scrolled": true
   },
   "outputs": [
    {
     "name": "stdout",
     "output_type": "stream",
     "text": [
      "Train on 1890 samples, validate on 210 samples\n",
      "Epoch 1/20\n",
      " - 1s - loss: 0.5979 - acc: 0.6847 - val_loss: 0.4411 - val_acc: 0.8476\n",
      "Epoch 2/20\n",
      " - 0s - loss: 0.3659 - acc: 0.8974 - val_loss: 0.2043 - val_acc: 0.9857\n",
      "Epoch 3/20\n",
      " - 0s - loss: 0.2838 - acc: 0.9265 - val_loss: 0.1583 - val_acc: 1.0000\n",
      "Epoch 4/20\n",
      " - 0s - loss: 0.2690 - acc: 0.9339 - val_loss: 0.1390 - val_acc: 1.0000\n",
      "Epoch 5/20\n",
      " - 0s - loss: 0.2642 - acc: 0.9307 - val_loss: 0.1286 - val_acc: 1.0000\n",
      "Epoch 6/20\n",
      " - 0s - loss: 0.2594 - acc: 0.9376 - val_loss: 0.1286 - val_acc: 1.0000\n",
      "Epoch 7/20\n",
      " - 0s - loss: 0.2563 - acc: 0.9360 - val_loss: 0.1167 - val_acc: 0.9952\n",
      "Epoch 8/20\n",
      " - 0s - loss: 0.2541 - acc: 0.9376 - val_loss: 0.1129 - val_acc: 0.9952\n",
      "Epoch 9/20\n",
      " - 0s - loss: 0.2513 - acc: 0.9423 - val_loss: 0.1085 - val_acc: 0.9905\n",
      "Epoch 10/20\n",
      " - 0s - loss: 0.2508 - acc: 0.9386 - val_loss: 0.1051 - val_acc: 0.9952\n",
      "Epoch 11/20\n",
      " - 0s - loss: 0.2486 - acc: 0.9344 - val_loss: 0.1040 - val_acc: 0.9952\n",
      "Epoch 12/20\n",
      " - 0s - loss: 0.2480 - acc: 0.9386 - val_loss: 0.1145 - val_acc: 1.0000\n",
      "Epoch 13/20\n",
      " - 0s - loss: 0.2470 - acc: 0.9413 - val_loss: 0.1029 - val_acc: 0.9952\n",
      "Epoch 14/20\n",
      " - 0s - loss: 0.2465 - acc: 0.9397 - val_loss: 0.1000 - val_acc: 0.9952\n",
      "Epoch 15/20\n",
      " - 0s - loss: 0.2456 - acc: 0.9439 - val_loss: 0.1034 - val_acc: 1.0000\n",
      "Epoch 16/20\n",
      " - 0s - loss: 0.2452 - acc: 0.9418 - val_loss: 0.1000 - val_acc: 0.9905\n",
      "Epoch 17/20\n",
      " - 0s - loss: 0.2439 - acc: 0.9413 - val_loss: 0.1044 - val_acc: 1.0000\n",
      "Epoch 18/20\n",
      " - 0s - loss: 0.2430 - acc: 0.9413 - val_loss: 0.1104 - val_acc: 0.9619\n",
      "Epoch 19/20\n",
      " - 0s - loss: 0.2431 - acc: 0.9402 - val_loss: 0.1120 - val_acc: 0.9619\n",
      "Epoch 20/20\n",
      " - 0s - loss: 0.2417 - acc: 0.9392 - val_loss: 0.0970 - val_acc: 1.0000\n"
     ]
    }
   ],
   "source": [
    "history=model.fit(scaled_xtrain,scaled_x_label,batch_size=10,epochs=20,validation_split=0.1,shuffle=True,verbose=2)"
   ]
  },
  {
   "cell_type": "code",
   "execution_count": 31,
   "metadata": {},
   "outputs": [],
   "source": [
    "history_dic=history.history"
   ]
  },
  {
   "cell_type": "code",
   "execution_count": 32,
   "metadata": {},
   "outputs": [
    {
     "data": {
      "text/plain": [
       "{'val_loss': [0.44110792875289917,\n",
       "  0.2042504520643325,\n",
       "  0.15830392213094802,\n",
       "  0.13900327717974073,\n",
       "  0.12858013134627116,\n",
       "  0.12863405900342123,\n",
       "  0.11666815905343919,\n",
       "  0.11292279369774319,\n",
       "  0.10847986933021318,\n",
       "  0.10505122815569241,\n",
       "  0.10395408262099538,\n",
       "  0.11446540057659149,\n",
       "  0.1028531337422984,\n",
       "  0.10002039426139422,\n",
       "  0.1034136726742699,\n",
       "  0.09997295588254929,\n",
       "  0.10436657017895154,\n",
       "  0.11035581128228278,\n",
       "  0.11199303361631575,\n",
       "  0.097032378472033],\n",
       " 'val_acc': [0.847619042510078,\n",
       "  0.985714282308306,\n",
       "  1.0,\n",
       "  1.0,\n",
       "  1.0,\n",
       "  1.0,\n",
       "  0.9952380941027686,\n",
       "  0.9952380941027686,\n",
       "  0.9904761882055373,\n",
       "  0.9952380941027686,\n",
       "  0.9952380941027686,\n",
       "  1.0,\n",
       "  0.9952380941027686,\n",
       "  0.9952380941027686,\n",
       "  1.0,\n",
       "  0.9904761882055373,\n",
       "  1.0,\n",
       "  0.9619047556604657,\n",
       "  0.9619047556604657,\n",
       "  1.0],\n",
       " 'loss': [0.5978988123633874,\n",
       "  0.36593425971648047,\n",
       "  0.2838251829226181,\n",
       "  0.26897371122761377,\n",
       "  0.26415792894032264,\n",
       "  0.2593792984409938,\n",
       "  0.2562962320667726,\n",
       "  0.2541003262318631,\n",
       "  0.2512858224806016,\n",
       "  0.25077982073423094,\n",
       "  0.24857658902725216,\n",
       "  0.2479868165005452,\n",
       "  0.24701692359078498,\n",
       "  0.2464702095461901,\n",
       "  0.24561091898768037,\n",
       "  0.24519646918726345,\n",
       "  0.24386890851473683,\n",
       "  0.24296380374482068,\n",
       "  0.24308073905015748,\n",
       "  0.2417479503761839],\n",
       " 'acc': [0.6846560844510952,\n",
       "  0.897354489911801,\n",
       "  0.9264550196430671,\n",
       "  0.9338624272396956,\n",
       "  0.9306878245696819,\n",
       "  0.9375661302495886,\n",
       "  0.9359788285992133,\n",
       "  0.9375661286727461,\n",
       "  0.942328034254609,\n",
       "  0.9386243318754529,\n",
       "  0.9343915260027326,\n",
       "  0.938624330613979,\n",
       "  0.9412698345209556,\n",
       "  0.9396825322398433,\n",
       "  0.9439153359049842,\n",
       "  0.941798934230098,\n",
       "  0.9412698338902186,\n",
       "  0.9412698335748501,\n",
       "  0.9402116338411967,\n",
       "  0.9391534315845954]}"
      ]
     },
     "execution_count": 32,
     "metadata": {},
     "output_type": "execute_result"
    }
   ],
   "source": [
    "history_dic"
   ]
  },
  {
   "cell_type": "code",
   "execution_count": 35,
   "metadata": {},
   "outputs": [
    {
     "data": {
      "text/plain": [
       "[0.6311151470456805,\n",
       " 0.4050883490730215,\n",
       " 0.3090017532151212,\n",
       " 0.28944984178930994,\n",
       " 0.2824713561151709,\n",
       " 0.2778078880574968,\n",
       " 0.27388012170712783,\n",
       " 0.27473513537613803,\n",
       " 0.270484897194716,\n",
       " 0.2697655486642684,\n",
       " 0.26940334487765555,\n",
       " 0.26677854719852645,\n",
       " 0.2661934647925947,\n",
       " 0.2661324565412191,\n",
       " 0.26326509758278177,\n",
       " 0.26404401504252323,\n",
       " 0.263629350771822,\n",
       " 0.26114314717669335,\n",
       " 0.2595585984370065,\n",
       " 0.25628116273533097]"
      ]
     },
     "execution_count": 35,
     "metadata": {},
     "output_type": "execute_result"
    }
   ],
   "source": [
    "history_dic['loss']"
   ]
  },
  {
   "cell_type": "code",
   "execution_count": 36,
   "metadata": {},
   "outputs": [
    {
     "data": {
      "text/plain": [
       "[0.6280423320396237,\n",
       " 0.8846560763934302,\n",
       " 0.9248677179926917,\n",
       " 0.9275132203228259,\n",
       " 0.9312169230173505,\n",
       " 0.9333333246922367,\n",
       " 0.9343915266334695,\n",
       " 0.9322751243278463,\n",
       " 0.9365079292544612,\n",
       " 0.9359788279684763,\n",
       " 0.9333333268998161,\n",
       " 0.9322751252739517,\n",
       " 0.9391534328460693,\n",
       " 0.9301587223375916,\n",
       " 0.938095230589468,\n",
       " 0.9349206288655599,\n",
       " 0.9317460239879669,\n",
       " 0.9349206285501914,\n",
       " 0.9354497285747023,\n",
       " 0.9349206294962968]"
      ]
     },
     "execution_count": 36,
     "metadata": {},
     "output_type": "execute_result"
    }
   ],
   "source": [
    "history_dic['acc']"
   ]
  },
  {
   "cell_type": "code",
   "execution_count": 33,
   "metadata": {},
   "outputs": [
    {
     "data": {
      "text/plain": [
       "<matplotlib.legend.Legend at 0x7fd28f46dc88>"
      ]
     },
     "execution_count": 33,
     "metadata": {},
     "output_type": "execute_result"
    },
    {
     "data": {
      "image/png": "[encoded data removed]",
      "text/plain": [
       "<Figure size 432x288 with 1 Axes>"
      ]
     },
     "metadata": {},
     "output_type": "display_data"
    }
   ],
   "source": [
    "import matplotlib.pyplot as plt\n",
    "list_epoch=np.arange(0,20)\n",
    "plt.plot(list_epoch,history_dic['loss'])\n",
    "plt.plot(list_epoch,history_dic['acc'])\n",
    "plt.plot(list_epoch,history_dic['val_loss'])\n",
    "plt.plot(list_epoch,history_dic['val_acc'])\n",
    "plt.legend(['loss','acc','val_loss','val_acc'])"
   ]
  },
  {
   "cell_type": "code",
   "execution_count": 34,
   "metadata": {},
   "outputs": [],
   "source": [
    "predict=model.predict(scaled_xtrain, batch_size=10, verbose=0) "
   ]
  },
  {
   "cell_type": "code",
   "execution_count": 35,
   "metadata": {},
   "outputs": [
    {
     "data": {
      "text/plain": [
       "array([[9.9999130e-01, 8.7301951e-06],\n",
       "       [2.3915680e-04, 9.9976081e-01],\n",
       "       [9.9999166e-01, 8.3672221e-06],\n",
       "       ...,\n",
       "       [8.8839753e-09, 1.0000000e+00],\n",
       "       [4.3142250e-01, 5.6857759e-01],\n",
       "       [2.3612570e-06, 9.9999762e-01]], dtype=float32)"
      ]
     },
     "execution_count": 35,
     "metadata": {},
     "output_type": "execute_result"
    }
   ],
   "source": [
    "predict"
   ]
  },
  {
   "cell_type": "code",
   "execution_count": 37,
   "metadata": {
    "scrolled": true
   },
   "outputs": [],
   "source": [
    "predict_round=np.argmax(predict,axis=1)\n",
    "#predict_round=predict.round()"
   ]
  },
  {
   "cell_type": "code",
   "execution_count": 38,
   "metadata": {},
   "outputs": [
    {
     "data": {
      "text/plain": [
       "array([0, 1, 0, ..., 1, 1, 1])"
      ]
     },
     "execution_count": 38,
     "metadata": {},
     "output_type": "execute_result"
    }
   ],
   "source": [
    "#predict_round[:,0]\n",
    "predict_round"
   ]
  },
  {
   "cell_type": "code",
   "execution_count": 39,
   "metadata": {},
   "outputs": [
    {
     "data": {
      "text/plain": [
       "array([[1., 0.],\n",
       "       [0., 1.],\n",
       "       [1., 0.],\n",
       "       ...,\n",
       "       [0., 1.],\n",
       "       [1., 0.],\n",
       "       [0., 1.]])"
      ]
     },
     "execution_count": 39,
     "metadata": {},
     "output_type": "execute_result"
    }
   ],
   "source": [
    "scaled_x_label"
   ]
  },
  {
   "cell_type": "code",
   "execution_count": 40,
   "metadata": {},
   "outputs": [
    {
     "data": {
      "text/plain": [
       "array([0, 1, 0, ..., 1, 0, 1])"
      ]
     },
     "execution_count": 40,
     "metadata": {},
     "output_type": "execute_result"
    }
   ],
   "source": [
    "x_label"
   ]
  },
  {
   "cell_type": "code",
   "execution_count": 41,
   "metadata": {},
   "outputs": [],
   "source": [
    "scaled_xlabel_round=np.argmax(scaled_x_label,axis=1)"
   ]
  },
  {
   "cell_type": "code",
   "execution_count": 42,
   "metadata": {},
   "outputs": [
    {
     "data": {
      "text/plain": [
       "array([0, 1, 0, ..., 1, 0, 1])"
      ]
     },
     "execution_count": 42,
     "metadata": {},
     "output_type": "execute_result"
    }
   ],
   "source": [
    "scaled_xlabel_round"
   ]
  },
  {
   "cell_type": "code",
   "execution_count": 43,
   "metadata": {},
   "outputs": [
    {
     "data": {
      "text/plain": [
       "0.99025"
      ]
     },
     "execution_count": 43,
     "metadata": {},
     "output_type": "execute_result"
    }
   ],
   "source": [
    "np.mean(predict_round==scaled_xlabel_round) #[:,0] to get numbers without arrays"
   ]
  },
  {
   "cell_type": "code",
   "execution_count": 44,
   "metadata": {},
   "outputs": [
    {
     "data": {
      "text/plain": [
       "array([0, 1, 0, 1, 0, 1, 1, 1, 0, 1, 0, 1, 0, 1, 0, 1, 0, 1, 0, 1, 0, 1,\n",
       "       0, 1, 0, 1, 0, 1, 0, 1, 0, 1, 0, 1, 0, 1, 0, 1, 0, 1, 0, 1, 0, 1,\n",
       "       0, 1, 0, 1, 0, 1, 0, 1, 0, 1, 0, 1, 0, 1, 0, 1, 0, 1, 0, 1, 0, 1,\n",
       "       0, 1, 0, 1, 0, 1, 0, 1, 0, 1, 0, 1, 0, 1, 0, 1, 0, 1, 0, 1, 0, 1,\n",
       "       0, 1, 0, 1, 0, 1, 0, 1, 0, 1, 1, 1])"
      ]
     },
     "execution_count": 44,
     "metadata": {},
     "output_type": "execute_result"
    }
   ],
   "source": [
    "predict_round[-100:]"
   ]
  },
  {
   "cell_type": "code",
   "execution_count": 45,
   "metadata": {},
   "outputs": [
    {
     "data": {
      "text/plain": [
       "array([0, 1, 0, 1, 0, 1, 0, 1, 0, 1, 0, 1, 0, 1, 0, 1, 0, 1, 0, 1, 0, 1,\n",
       "       0, 1, 0, 1, 0, 1, 0, 1, 0, 1, 0, 1, 0, 1, 0, 1, 0, 1, 0, 1, 0, 1,\n",
       "       0, 1, 0, 1, 0, 1, 0, 1, 0, 1, 0, 1, 0, 1, 0, 1, 0, 1, 0, 1, 0, 1,\n",
       "       0, 1, 0, 1, 0, 1, 0, 1, 0, 1, 0, 1, 0, 1, 0, 1, 0, 1, 0, 1, 0, 1,\n",
       "       0, 1, 0, 1, 0, 1, 0, 1, 0, 1, 0, 1])"
      ]
     },
     "execution_count": 45,
     "metadata": {},
     "output_type": "execute_result"
    }
   ],
   "source": [
    "scaled_xlabel_round[-100:]"
   ]
  },
  {
   "cell_type": "code",
   "execution_count": 47,
   "metadata": {
    "scrolled": false
   },
   "outputs": [
    {
     "data": {
      "text/plain": [
       "<matplotlib.legend.Legend at 0x7f33080341d0>"
      ]
     },
     "execution_count": 47,
     "metadata": {},
     "output_type": "execute_result"
    },
    {
     "data": {
      "image/png": "[encoded data removed]",
      "text/plain": [
       "<Figure size 432x288 with 1 Axes>"
      ]
     },
     "metadata": {},
     "output_type": "display_data"
    }
   ],
   "source": [
    "import matplotlib.pyplot as plt\n",
    "plt.scatter(scaled_xtrain,scaled_xlabel_round,marker='o')\n",
    "plt.scatter(scaled_xtrain,predict_round,marker='X')\n",
    "plt.legend(['actual','predict'])\n"
   ]
  },
  {
   "cell_type": "code",
   "execution_count": null,
   "metadata": {},
   "outputs": [],
   "source": []
  },
  {
   "cell_type": "code",
   "execution_count": null,
   "metadata": {},
   "outputs": [],
   "source": []
  },
  {
   "cell_type": "markdown",
   "metadata": {},
   "source": [
    "# get test data"
   ]
  },
  {
   "cell_type": "code",
   "execution_count": 65,
   "metadata": {},
   "outputs": [],
   "source": [
    "x_test=[]\n",
    "label_test=[]\n",
    "\n",
    "for i in range(200):\n",
    "    # The 5% of younger individuals who did experience side effects\n",
    "    random_younger = randint(13,64)\n",
    "    x_test.append(random_younger)\n",
    "    label_test.append(0)\n",
    "    \n",
    "    # The 5% of older individuals who did not experience side effects\n",
    "    random_older = randint(65,100)\n",
    "    x_test.append(random_older)\n",
    "    label_test.append(1)\n",
    "\n",
    "for i in range(200):\n",
    "    # The 95% of younger individuals who did not experience side effects\n",
    "    random_younger = randint(13,64)\n",
    "    x_test.append(random_younger)\n",
    "    label_test.append(0)\n",
    "    \n",
    "    # The 95% of older individuals who did experience side effects\n",
    "    random_older = randint(65,100)\n",
    "    x_test.append(random_older)\n",
    "    label_test.append(1)"
   ]
  },
  {
   "cell_type": "code",
   "execution_count": 66,
   "metadata": {},
   "outputs": [],
   "source": [
    "x_test=np.array(x_test)\n",
    "label_test=np.array(label_test)"
   ]
  },
  {
   "cell_type": "code",
   "execution_count": 67,
   "metadata": {},
   "outputs": [],
   "source": [
    "#label_test"
   ]
  },
  {
   "cell_type": "code",
   "execution_count": 68,
   "metadata": {
    "scrolled": true
   },
   "outputs": [],
   "source": [
    "# scaled_xtest=scaler.fit_transform((x_test).reshape(-1,1)) #this to make 2100,1\n",
    "# #scaled_x_label=scaler2.fit_transform((x_label)) #will do 2100,1 later\n",
    "# scaled_label_test=to_categorical(label_test,num_classes=2)\n",
    "\n",
    "\n",
    "# scaled_xtest=scaler.fit_transform((x_test).reshape(-1,1)) #this to make 2100,1\n",
    "# scaled_x_label=scaler2.fit_transform((label_test).reshape(-1,1)) #will do 2100,1 later\n",
    "\n",
    "scaled_xtest=scaler.transform((x_test).reshape(-1,1)) #this to make 2100,1\n",
    "scaled_x_label=scaler2.transform((label_test).reshape(-1,1)) #will do 2100,1 later"
   ]
  },
  {
   "cell_type": "code",
   "execution_count": 69,
   "metadata": {},
   "outputs": [],
   "source": [
    "#scaled_label_test\n",
    "\n",
    "# array([[0., 1.],\n",
    "#        [1., 0.],\n",
    "#        [0., 1.],\n",
    "#        [1., 0.],\n",
    "#        [0., 1.],"
   ]
  },
  {
   "cell_type": "code",
   "execution_count": 70,
   "metadata": {},
   "outputs": [],
   "source": [
    "predict=model.predict(scaled_xtest, batch_size=10, verbose=0) "
   ]
  },
  {
   "cell_type": "code",
   "execution_count": 71,
   "metadata": {},
   "outputs": [
    {
     "data": {
      "text/plain": [
       "array([[9.9999166e-01, 8.3267923e-06],\n",
       "       [2.7130884e-10, 1.0000000e+00],\n",
       "       [9.9998581e-01, 1.4139704e-05],\n",
       "       ...,\n",
       "       [4.5193981e-02, 9.5480603e-01],\n",
       "       [9.9996459e-01, 3.5447676e-05],\n",
       "       [2.9440050e-03, 9.9705601e-01]], dtype=float32)"
      ]
     },
     "execution_count": 71,
     "metadata": {},
     "output_type": "execute_result"
    }
   ],
   "source": [
    "predict"
   ]
  },
  {
   "cell_type": "code",
   "execution_count": 72,
   "metadata": {},
   "outputs": [],
   "source": [
    "predict_round=np.argmax(predict,axis=1)"
   ]
  },
  {
   "cell_type": "code",
   "execution_count": 73,
   "metadata": {},
   "outputs": [],
   "source": [
    "scaled_xlabel_round=np.argmax(scaled_x_label,axis=1)"
   ]
  },
  {
   "cell_type": "code",
   "execution_count": 74,
   "metadata": {},
   "outputs": [
    {
     "data": {
      "text/plain": [
       "0.99125"
      ]
     },
     "execution_count": 74,
     "metadata": {},
     "output_type": "execute_result"
    }
   ],
   "source": [
    "np.mean(predict_round==scaled_xlabel_round)"
   ]
  },
  {
   "cell_type": "code",
   "execution_count": 91,
   "metadata": {},
   "outputs": [],
   "source": [
    "from sklearn.metrics import confusion_matrix,f1_score\n",
    "import itertools"
   ]
  },
  {
   "cell_type": "code",
   "execution_count": 92,
   "metadata": {},
   "outputs": [
    {
     "data": {
      "text/plain": [
       "array([[393,   0],\n",
       "       [  7, 400]])"
      ]
     },
     "execution_count": 92,
     "metadata": {},
     "output_type": "execute_result"
    }
   ],
   "source": [
    "confusion_matrix(predict_round,scaled_xlabel_round)"
   ]
  },
  {
   "cell_type": "code",
   "execution_count": 93,
   "metadata": {},
   "outputs": [
    {
     "data": {
      "text/plain": [
       "0.9913258983890954"
      ]
     },
     "execution_count": 93,
     "metadata": {},
     "output_type": "execute_result"
    }
   ],
   "source": [
    "f1_score(predict_round,scaled_xlabel_round)"
   ]
  },
  {
   "cell_type": "code",
   "execution_count": 94,
   "metadata": {},
   "outputs": [],
   "source": [
    "cm=confusion_matrix(predict_round,scaled_xlabel_round)"
   ]
  },
  {
   "cell_type": "code",
   "execution_count": 95,
   "metadata": {},
   "outputs": [
    {
     "data": {
      "text/plain": [
       "<matplotlib.image.AxesImage at 0x7f3300584358>"
      ]
     },
     "execution_count": 95,
     "metadata": {},
     "output_type": "execute_result"
    },
    {
     "data": {
      "image/png": "[encoded data removed]",
      "text/plain": [
       "<Figure size 288x288 with 1 Axes>"
      ]
     },
     "metadata": {},
     "output_type": "display_data"
    }
   ],
   "source": [
    "plt.matshow(cm)"
   ]
  },
  {
   "cell_type": "code",
   "execution_count": 96,
   "metadata": {},
   "outputs": [],
   "source": [
    "def plot_confusion_matrix(cm, classes,\n",
    "                          normalize=False,\n",
    "                          title='Confusion matrix',\n",
    "                          cmap=plt.cm.Blues):\n",
    "    \"\"\"\n",
    "    This function prints and plots the confusion matrix.\n",
    "    Normalization can be applied by setting `normalize=True`.\n",
    "    \"\"\"\n",
    "    plt.imshow(cm, interpolation='nearest', cmap=cmap)\n",
    "    plt.title(title)\n",
    "    plt.colorbar()\n",
    "    tick_marks = np.arange(len(classes))\n",
    "    plt.xticks(tick_marks, classes, rotation=45)\n",
    "    plt.yticks(tick_marks, classes)\n",
    "\n",
    "    if normalize:\n",
    "        cm = cm.astype('float') / cm.sum(axis=1)[:, np.newaxis]\n",
    "        print(\"Normalized confusion matrix\")\n",
    "    else:\n",
    "        print('Confusion matrix, without normalization')\n",
    "\n",
    "    print(cm)\n",
    "\n",
    "    thresh = cm.max() / 2.\n",
    "    for i, j in itertools.product(range(cm.shape[0]), range(cm.shape[1])):\n",
    "        plt.text(j, i, cm[i, j],\n",
    "                 horizontalalignment=\"center\",\n",
    "                 color=\"white\" if cm[i, j] > thresh else \"black\")\n",
    "\n",
    "    plt.tight_layout()\n",
    "    plt.ylabel('True label')\n",
    "    plt.xlabel('Predicted label')"
   ]
  },
  {
   "cell_type": "code",
   "execution_count": 97,
   "metadata": {},
   "outputs": [
    {
     "name": "stdout",
     "output_type": "stream",
     "text": [
      "Confusion matrix, without normalization\n",
      "[[393   0]\n",
      " [  7 400]]\n"
     ]
    },
    {
     "data": {
      "image/png": "[encoded data removed]",
      "text/plain": [
       "<Figure size 432x288 with 2 Axes>"
      ]
     },
     "metadata": {},
     "output_type": "display_data"
    }
   ],
   "source": [
    "cm_plot_labels = ['0','1']\n",
    "plot_confusion_matrix(cm, cm_plot_labels, title='Confusion Matrix')"
   ]
  },
  {
   "cell_type": "markdown",
   "metadata": {},
   "source": [
    "# save and load model"
   ]
  },
  {
   "cell_type": "code",
   "execution_count": 98,
   "metadata": {},
   "outputs": [],
   "source": [
    "#save the whole model including the weights, configuration, optimizer\n",
    "model.save('model_ANN3.h5')"
   ]
  },
  {
   "cell_type": "code",
   "execution_count": 99,
   "metadata": {},
   "outputs": [],
   "source": [
    "from keras.models import load_model\n",
    "new_model=load_model('model_ANN3.h5')"
   ]
  },
  {
   "cell_type": "code",
   "execution_count": 100,
   "metadata": {
    "scrolled": true
   },
   "outputs": [
    {
     "name": "stdout",
     "output_type": "stream",
     "text": [
      "_________________________________________________________________\n",
      "Layer (type)                 Output Shape              Param #   \n",
      "=================================================================\n",
      "dense_1 (Dense)              (None, 16)                32        \n",
      "_________________________________________________________________\n",
      "dense_2 (Dense)              (None, 32)                544       \n",
      "_________________________________________________________________\n",
      "dense_3 (Dense)              (None, 2)                 66        \n",
      "=================================================================\n",
      "Total params: 642\n",
      "Trainable params: 642\n",
      "Non-trainable params: 0\n",
      "_________________________________________________________________\n"
     ]
    }
   ],
   "source": [
    "new_model.summary()"
   ]
  },
  {
   "cell_type": "code",
   "execution_count": 121,
   "metadata": {},
   "outputs": [
    {
     "data": {
      "text/plain": [
       "<keras.layers.core.Dense at 0x7f33004a8cf8>"
      ]
     },
     "execution_count": 121,
     "metadata": {},
     "output_type": "execute_result"
    }
   ],
   "source": [
    "new_model.get_layer('dense_1')"
   ]
  },
  {
   "cell_type": "code",
   "execution_count": 105,
   "metadata": {
    "scrolled": true
   },
   "outputs": [
    {
     "data": {
      "text/plain": [
       "[{'class_name': 'Dense',\n",
       "  'config': {'name': 'dense_1',\n",
       "   'trainable': True,\n",
       "   'batch_input_shape': (None, 1),\n",
       "   'dtype': 'float32',\n",
       "   'units': 16,\n",
       "   'activation': 'relu',\n",
       "   'use_bias': True,\n",
       "   'kernel_initializer': {'class_name': 'VarianceScaling',\n",
       "    'config': {'scale': 1.0,\n",
       "     'mode': 'fan_avg',\n",
       "     'distribution': 'uniform',\n",
       "     'seed': None}},\n",
       "   'bias_initializer': {'class_name': 'Zeros', 'config': {}},\n",
       "   'kernel_regularizer': None,\n",
       "   'bias_regularizer': None,\n",
       "   'activity_regularizer': None,\n",
       "   'kernel_constraint': None,\n",
       "   'bias_constraint': None}},\n",
       " {'class_name': 'Dense',\n",
       "  'config': {'name': 'dense_2',\n",
       "   'trainable': True,\n",
       "   'units': 32,\n",
       "   'activation': 'relu',\n",
       "   'use_bias': True,\n",
       "   'kernel_initializer': {'class_name': 'VarianceScaling',\n",
       "    'config': {'scale': 1.0,\n",
       "     'mode': 'fan_avg',\n",
       "     'distribution': 'uniform',\n",
       "     'seed': None}},\n",
       "   'bias_initializer': {'class_name': 'Zeros', 'config': {}},\n",
       "   'kernel_regularizer': None,\n",
       "   'bias_regularizer': None,\n",
       "   'activity_regularizer': None,\n",
       "   'kernel_constraint': None,\n",
       "   'bias_constraint': None}},\n",
       " {'class_name': 'Dense',\n",
       "  'config': {'name': 'dense_3',\n",
       "   'trainable': True,\n",
       "   'units': 2,\n",
       "   'activation': 'softmax',\n",
       "   'use_bias': True,\n",
       "   'kernel_initializer': {'class_name': 'VarianceScaling',\n",
       "    'config': {'scale': 1.0,\n",
       "     'mode': 'fan_avg',\n",
       "     'distribution': 'uniform',\n",
       "     'seed': None}},\n",
       "   'bias_initializer': {'class_name': 'Zeros', 'config': {}},\n",
       "   'kernel_regularizer': None,\n",
       "   'bias_regularizer': None,\n",
       "   'activity_regularizer': None,\n",
       "   'kernel_constraint': None,\n",
       "   'bias_constraint': None}}]"
      ]
     },
     "execution_count": 105,
     "metadata": {},
     "output_type": "execute_result"
    }
   ],
   "source": [
    "new_model.get_config()"
   ]
  },
  {
   "cell_type": "code",
   "execution_count": 104,
   "metadata": {},
   "outputs": [
    {
     "data": {
      "text/plain": [
       "[array([[-0.5485538 , -0.16605979,  0.6971471 , -0.23878744,  0.57698375,\n",
       "         -0.4628256 , -0.30079538,  0.6509036 , -0.00968093,  0.5443936 ,\n",
       "          0.34185925,  0.6021395 ,  0.7477392 , -0.3899328 , -0.01809061,\n",
       "         -0.5431478 ]], dtype=float32),\n",
       " array([ 0.        ,  0.        , -0.31074166,  0.        , -0.05290677,\n",
       "         0.        ,  0.        , -0.3095495 ,  0.        , -0.27527633,\n",
       "         0.2506706 , -0.29085296, -0.33256745,  0.        ,  0.        ,\n",
       "         0.        ], dtype=float32),\n",
       " array([[ 4.83879447e-03,  2.49554008e-01, -1.10233143e-01,\n",
       "          1.22231513e-01,  7.92871416e-02, -1.75251573e-01,\n",
       "         -4.67080772e-02, -1.84210807e-01, -1.67204127e-01,\n",
       "         -7.78524876e-02,  4.00201976e-02, -4.23411429e-02,\n",
       "          2.44834214e-01, -3.15044224e-02, -1.75395787e-01,\n",
       "          1.48780048e-02,  3.86138558e-02,  9.13387835e-02,\n",
       "         -2.78848678e-01,  1.21202350e-01, -7.92557895e-02,\n",
       "         -3.00695002e-01,  1.39850646e-01,  8.88979435e-03,\n",
       "         -5.59506118e-02,  3.23903352e-01,  2.01890737e-01,\n",
       "          3.46699864e-01, -8.61656070e-02, -2.08285585e-01,\n",
       "         -1.69978738e-01,  5.26351035e-02],\n",
       "        [ 8.95176232e-02,  6.17067814e-02,  1.96952969e-01,\n",
       "          2.58109003e-01,  2.84345657e-01, -2.05937162e-01,\n",
       "         -1.71773687e-01,  3.32296878e-01, -5.22203743e-02,\n",
       "          1.70826226e-01, -4.31649387e-02, -1.15441978e-02,\n",
       "         -2.23489702e-02,  2.29898721e-01, -1.28951669e-02,\n",
       "         -2.33122468e-01,  1.84391052e-01, -9.72036123e-02,\n",
       "         -2.94503033e-01, -3.03314924e-01, -1.45569146e-01,\n",
       "         -3.36680979e-01, -1.06734693e-01, -6.78075254e-02,\n",
       "         -2.49358118e-01,  1.14924937e-01,  1.26573384e-01,\n",
       "         -1.41228348e-01,  3.16072553e-01, -1.21480614e-01,\n",
       "          6.08775020e-02, -2.04621345e-01],\n",
       "        [-1.55110598e-01,  9.82357919e-01, -3.47149760e-01,\n",
       "         -4.12440926e-01,  2.60644227e-01, -4.87554431e-01,\n",
       "          8.20601583e-01,  8.41137826e-01, -8.74354184e-01,\n",
       "         -3.47934365e-01, -6.07059836e-01, -8.94584656e-01,\n",
       "          6.94153547e-01, -1.22274742e-01,  8.29043627e-01,\n",
       "          2.14055151e-01, -1.01086736e+00, -3.21032435e-01,\n",
       "          1.83248192e-01,  1.13065219e+00, -7.55623877e-02,\n",
       "         -3.17955077e-01,  9.16448534e-01, -8.33079576e-01,\n",
       "          5.68963826e-01,  6.62401259e-01, -8.74388218e-01,\n",
       "          9.61340293e-02,  9.65467393e-01, -1.53700411e-01,\n",
       "         -2.60969162e-01, -7.56028593e-01],\n",
       "        [ 4.57783043e-02, -3.18448424e-01, -4.46569324e-02,\n",
       "          2.57567912e-01, -1.78434744e-01,  2.69700289e-02,\n",
       "          8.77377689e-02, -2.80984849e-01,  3.36910188e-02,\n",
       "         -1.85140818e-01,  5.86557686e-02,  2.91059047e-01,\n",
       "         -1.58183858e-01,  2.29339600e-02, -1.92868948e-01,\n",
       "          2.14139014e-01,  1.44773751e-01, -2.26100981e-01,\n",
       "         -2.85809338e-01, -3.45364809e-02,  1.79419547e-01,\n",
       "          1.60938412e-01,  1.17080748e-01, -9.68254805e-02,\n",
       "         -6.18205667e-02, -1.39352396e-01, -2.15628073e-01,\n",
       "          1.27753019e-02, -4.37057614e-02, -3.35260391e-01,\n",
       "          2.56349713e-01,  3.16494256e-01],\n",
       "        [-2.49927431e-01,  5.70915461e-01, -1.92221999e-01,\n",
       "          5.55603467e-02,  1.18524805e-01,  1.13246262e-01,\n",
       "          2.68804640e-01,  1.92102194e-01,  1.99670549e-02,\n",
       "         -2.82853663e-01, -1.44009352e-01,  1.47879884e-01,\n",
       "          4.37771410e-01,  2.73513585e-01,  2.68021315e-01,\n",
       "          6.27107918e-02,  8.22708383e-02,  1.57580972e-01,\n",
       "         -2.55487859e-01,  2.38169312e-01, -2.36155540e-01,\n",
       "         -1.56812906e-01,  4.01600808e-01, -1.10233121e-01,\n",
       "          3.05050731e-01,  3.35609198e-01,  1.63481697e-01,\n",
       "         -3.55065435e-01,  3.27333391e-01,  1.85837187e-02,\n",
       "          8.59457552e-02, -1.68789998e-01],\n",
       "        [-2.63034761e-01, -7.97659159e-04,  2.49895304e-01,\n",
       "         -3.24816555e-01, -2.62988746e-01, -1.15778148e-01,\n",
       "          4.53637540e-02, -2.25920260e-01,  1.86697274e-01,\n",
       "          3.43667060e-01,  6.97809458e-03,  3.19914132e-01,\n",
       "         -8.84288847e-02,  5.41024804e-02, -1.77889615e-01,\n",
       "         -3.19921196e-01,  3.47373754e-01,  3.97647023e-02,\n",
       "          2.71320909e-01, -7.36159682e-02, -1.25123799e-01,\n",
       "         -3.05320948e-01, -1.79540515e-02, -3.51203710e-01,\n",
       "          4.24569845e-03,  2.29083270e-01, -3.46368790e-01,\n",
       "         -2.99563020e-01,  2.67463028e-02,  2.59483963e-01,\n",
       "         -2.64142036e-01, -3.31192464e-01],\n",
       "        [-2.94223338e-01,  2.14338034e-01, -1.69274896e-01,\n",
       "          1.24204218e-01,  1.12378657e-01, -1.56996846e-01,\n",
       "          2.66124457e-01, -1.95583791e-01, -3.15094709e-01,\n",
       "          2.96864599e-01, -3.35337222e-02,  1.81936920e-02,\n",
       "          1.37451887e-02, -8.62444341e-02,  2.80504376e-01,\n",
       "          1.37953371e-01,  2.66805291e-03, -2.29396358e-01,\n",
       "          9.29046273e-02,  1.24239206e-01, -1.51721999e-01,\n",
       "          4.87710536e-02, -2.58396566e-02,  2.49410123e-01,\n",
       "          1.73596144e-02, -1.55427963e-01,  4.20408845e-02,\n",
       "         -3.28748018e-01, -3.26696247e-01, -2.63772666e-01,\n",
       "         -2.10461885e-01, -1.56643391e-01],\n",
       "        [ 1.37890399e-01,  1.01246881e+00,  5.30299246e-02,\n",
       "         -9.60255623e-01,  1.21550180e-01, -7.79065132e-01,\n",
       "          6.53541267e-01,  8.67339969e-01, -7.75964439e-01,\n",
       "         -1.91609517e-01, -9.66379881e-01, -9.85854208e-01,\n",
       "          6.57193840e-01, -3.28125179e-01,  9.56070721e-01,\n",
       "         -1.12729579e-01, -1.15249634e+00,  2.23865747e-01,\n",
       "          1.61288470e-01,  7.10361600e-01,  6.14181161e-03,\n",
       "          5.75815439e-02,  1.10135531e+00, -6.29918933e-01,\n",
       "          1.08597112e+00,  1.14070475e+00, -9.79104459e-01,\n",
       "         -3.37532967e-01,  1.04644370e+00,  2.89077193e-01,\n",
       "          2.10644990e-01, -5.43126762e-01],\n",
       "        [ 1.69327885e-01, -2.48714626e-01, -2.15049058e-01,\n",
       "          2.43199140e-01,  1.34123832e-01,  3.18854541e-01,\n",
       "          1.53211445e-01,  1.62752658e-01,  2.48075336e-01,\n",
       "          2.72064537e-01, -3.35295975e-01, -2.28554770e-01,\n",
       "         -3.45246732e-01, -1.14541143e-01, -3.04343998e-01,\n",
       "          1.09515309e-01, -2.71789938e-01, -8.74555409e-02,\n",
       "          1.55757159e-01, -8.25627148e-02, -2.43871525e-01,\n",
       "         -3.19144189e-01, -3.19213897e-01,  7.48518109e-03,\n",
       "          1.64326340e-01,  1.01118892e-01, -1.45091027e-01,\n",
       "          2.32692808e-01,  2.96667010e-01,  1.30549967e-02,\n",
       "         -1.02078140e-01, -3.20895821e-01],\n",
       "        [-2.30808288e-01,  1.22698879e+00, -4.96957600e-02,\n",
       "         -9.43366289e-01, -3.55994344e-01, -5.81637979e-01,\n",
       "          1.02466738e+00,  8.63264382e-01, -1.28408158e+00,\n",
       "          9.35589969e-02, -9.15714264e-01, -1.27032852e+00,\n",
       "          1.30679941e+00,  3.11718613e-01,  1.43058646e+00,\n",
       "         -1.64100274e-01, -1.38033223e+00,  1.07319668e-01,\n",
       "          2.59491473e-01,  1.40875590e+00, -3.21445584e-01,\n",
       "          1.41979247e-01,  6.36011422e-01, -5.75971782e-01,\n",
       "          9.90386963e-01,  1.16901207e+00, -8.36009562e-01,\n",
       "         -2.37936780e-01,  1.02323771e+00, -2.37479031e-01,\n",
       "          2.24133879e-01, -5.91850042e-01],\n",
       "        [-2.63157487e-03,  1.07730351e-01, -2.29419798e-01,\n",
       "          1.37452781e-01, -3.81447881e-01,  2.39111155e-01,\n",
       "          2.25169316e-01,  4.15555894e-01,  1.17543273e-01,\n",
       "         -1.84700891e-01,  2.77460963e-01,  3.67440343e-01,\n",
       "          1.65109225e-02, -3.47642809e-01,  2.86250949e-01,\n",
       "         -2.99868077e-01,  4.01167125e-01, -2.38940716e-01,\n",
       "         -2.43309885e-01,  2.10902482e-01, -1.84017420e-02,\n",
       "         -6.40823543e-02,  3.43032479e-01,  3.05492729e-01,\n",
       "          4.12676513e-01,  3.43062639e-01,  7.19623938e-02,\n",
       "          5.06738164e-02,  3.05099577e-01,  1.96987651e-02,\n",
       "         -1.56752899e-01,  7.52239898e-02],\n",
       "        [-1.94109157e-01,  9.33531642e-01, -2.24866167e-01,\n",
       "         -1.21419418e+00,  2.31611580e-01, -9.73724484e-01,\n",
       "          1.08365238e+00,  7.26485789e-01, -7.00246215e-01,\n",
       "          9.13393795e-02, -1.19653738e+00, -8.59153509e-01,\n",
       "          9.09461141e-01, -2.61288881e-01,  1.10670531e+00,\n",
       "         -1.78805724e-01, -1.03603649e+00,  1.33355722e-01,\n",
       "         -2.38090754e-01,  1.02852881e+00, -1.99464768e-01,\n",
       "         -3.28993648e-01,  5.44137895e-01, -8.08680236e-01,\n",
       "          1.24635410e+00,  9.07672763e-01, -8.95688713e-01,\n",
       "         -5.81757911e-02,  1.19978642e+00, -3.32332760e-01,\n",
       "         -1.33486822e-01, -6.61045372e-01],\n",
       "        [ 1.21602088e-01,  9.79094028e-01, -2.77991831e-01,\n",
       "         -8.18299890e-01,  2.07707480e-01, -6.93663359e-01,\n",
       "          8.24070275e-01,  7.66572595e-01, -1.05315626e+00,\n",
       "         -3.05845857e-01, -9.61526036e-01, -9.96641040e-01,\n",
       "          9.04148161e-01,  5.61818182e-02,  9.18440461e-01,\n",
       "          1.53114110e-01, -9.01001930e-01,  1.88009962e-01,\n",
       "         -2.51167059e-01,  1.14677203e+00, -2.56266236e-01,\n",
       "          2.07771569e-01,  6.19774342e-01, -4.92979050e-01,\n",
       "          1.09370244e+00,  9.30107594e-01, -5.76149821e-01,\n",
       "         -4.49573956e-02,  8.35734248e-01, -1.00935727e-01,\n",
       "         -1.86781675e-01, -3.11170101e-01],\n",
       "        [-1.88324258e-01,  6.39428496e-02, -1.12517506e-01,\n",
       "         -3.18238556e-01, -1.15788430e-01,  1.30864263e-01,\n",
       "         -2.71137923e-01, -2.84173101e-01,  4.09275293e-02,\n",
       "          6.91430867e-02,  7.81022310e-02, -2.23202452e-01,\n",
       "          1.10950232e-01, -1.29660219e-01, -3.19923580e-01,\n",
       "         -2.10318670e-01, -9.67680812e-02,  7.45294392e-02,\n",
       "         -9.84615982e-02,  2.31174439e-01, -3.41000199e-01,\n",
       "         -8.17862153e-02, -6.60989881e-02,  3.82906497e-02,\n",
       "         -2.63085604e-01,  2.21562594e-01, -2.64237821e-01,\n",
       "         -6.99015558e-02,  1.09089524e-01,  2.54759043e-01,\n",
       "          3.35796684e-01, -1.94741532e-01],\n",
       "        [-1.73372403e-01,  3.27197522e-01, -7.18960464e-02,\n",
       "         -1.00968331e-01,  1.49684280e-01, -3.02525938e-01,\n",
       "         -2.73577303e-01, -1.43118978e-01,  2.75487900e-02,\n",
       "          1.99778646e-01,  2.57024139e-01,  2.70849377e-01,\n",
       "         -7.24442899e-02, -3.79611552e-02, -3.18331361e-01,\n",
       "          1.76482111e-01,  2.11659461e-01,  2.17767388e-01,\n",
       "          1.37724340e-01, -2.02743113e-01,  1.52989626e-02,\n",
       "          1.89471394e-01, -3.14345002e-01,  1.26196414e-01,\n",
       "          1.01835221e-01,  1.75379366e-01, -1.27669036e-01,\n",
       "          3.38163823e-01, -2.52816439e-01, -3.49804938e-01,\n",
       "         -1.76739857e-01,  1.77072734e-01],\n",
       "        [ 3.16735893e-01,  1.58215135e-01, -2.58719623e-01,\n",
       "         -2.90419698e-01, -1.49352580e-01,  6.81927502e-02,\n",
       "          2.04905659e-01,  2.38204986e-01,  2.77856380e-01,\n",
       "         -2.69561887e-01,  3.32979470e-01,  6.34673238e-03,\n",
       "          1.31664306e-01, -1.42928481e-01, -3.04534584e-01,\n",
       "         -8.85409117e-02, -2.02687725e-01,  9.12531614e-02,\n",
       "          1.28339946e-01, -7.88658857e-04,  3.16168100e-01,\n",
       "          2.90641278e-01,  1.36416525e-01, -3.19025517e-02,\n",
       "         -1.06831983e-01,  2.87271172e-01,  3.37634414e-01,\n",
       "          3.31132203e-01, -1.77722812e-01,  3.21295112e-01,\n",
       "         -1.96786925e-01,  1.56460553e-01]], dtype=float32),\n",
       " array([ 0.        , -0.26968187,  0.        ,  0.39801547, -0.01156117,\n",
       "         0.33470893, -0.24089818, -0.29391345,  0.5103533 ,  0.        ,\n",
       "         0.43891966,  0.40853605, -0.19868438,  0.        , -0.30582985,\n",
       "         0.        ,  0.46828726, -0.01424753,  0.        , -0.25862518,\n",
       "         0.        ,  0.        , -0.3001462 ,  0.33085823, -0.36180425,\n",
       "        -0.30998844,  0.38690636, -0.02157458, -0.31713718, -0.01792335,\n",
       "         0.        ,  0.3235884 ], dtype=float32),\n",
       " array([[-0.22460447,  0.10572168],\n",
       "        [-1.1377558 ,  0.58449274],\n",
       "        [-0.2687843 , -0.27588034],\n",
       "        [ 1.307067  , -1.4539171 ],\n",
       "        [ 0.0226149 , -0.15353113],\n",
       "        [ 0.8666108 , -0.8805064 ],\n",
       "        [-1.084421  ,  1.144641  ],\n",
       "        [-0.83518475,  0.9941179 ],\n",
       "        [ 1.2615156 , -1.5661339 ],\n",
       "        [-0.32364297, -0.04332891],\n",
       "        [ 0.9833523 , -1.1782833 ],\n",
       "        [ 1.5124103 , -1.4667375 ],\n",
       "        [-1.0791903 ,  1.2608348 ],\n",
       "        [ 0.06840435, -0.11268964],\n",
       "        [-0.70488816,  1.1104066 ],\n",
       "        [-0.18205518,  0.25723413],\n",
       "        [ 1.3280125 , -1.2503965 ],\n",
       "        [ 0.39285186, -0.06574506],\n",
       "        [-0.10382554,  0.3857549 ],\n",
       "        [-0.72704273,  1.0209008 ],\n",
       "        [-0.03941453, -0.06031215],\n",
       "        [ 0.2402269 ,  0.08298519],\n",
       "        [-0.7587136 ,  0.9609644 ],\n",
       "        [ 0.9106297 , -1.0160496 ],\n",
       "        [-0.63269866,  0.9492699 ],\n",
       "        [-0.91879195,  0.701403  ],\n",
       "        [ 1.6725789 , -1.5582832 ],\n",
       "        [-0.2707519 , -0.15765767],\n",
       "        [-0.72722214,  0.9857912 ],\n",
       "        [ 0.23358469,  0.25352165],\n",
       "        [-0.39206123, -0.01504451],\n",
       "        [ 1.0270356 , -1.1523315 ]], dtype=float32),\n",
       " array([ 0.2871995 , -0.28719944], dtype=float32)]"
      ]
     },
     "execution_count": 104,
     "metadata": {},
     "output_type": "execute_result"
    }
   ],
   "source": [
    "new_model.get_weights()"
   ]
  },
  {
   "cell_type": "markdown",
   "metadata": {},
   "source": [
    "# model to_json"
   ]
  },
  {
   "cell_type": "code",
   "execution_count": 106,
   "metadata": {},
   "outputs": [],
   "source": [
    "# save the architechture no weight\n",
    "\n",
    "json_string=model.to_json()  ##model.to_yaml()"
   ]
  },
  {
   "cell_type": "code",
   "execution_count": 107,
   "metadata": {},
   "outputs": [],
   "source": [
    "from keras.models import model_from_json #model_from_yaml/confimg"
   ]
  },
  {
   "cell_type": "code",
   "execution_count": 108,
   "metadata": {},
   "outputs": [],
   "source": [
    "model_architecture=model_from_json(json_string)"
   ]
  },
  {
   "cell_type": "code",
   "execution_count": 109,
   "metadata": {
    "scrolled": true
   },
   "outputs": [
    {
     "data": {
      "text/plain": [
       "<keras.models.Sequential at 0x7f33007540f0>"
      ]
     },
     "execution_count": 109,
     "metadata": {},
     "output_type": "execute_result"
    }
   ],
   "source": [
    "model_architecture"
   ]
  },
  {
   "cell_type": "code",
   "execution_count": 111,
   "metadata": {},
   "outputs": [],
   "source": [
    "model.save_weights('ANN3_save_weight.h5')"
   ]
  },
  {
   "cell_type": "code",
   "execution_count": 112,
   "metadata": {},
   "outputs": [],
   "source": [
    "model2=model_from_json(json_string)   #building up new model, from json the archituecture and from load_weigh the weights"
   ]
  },
  {
   "cell_type": "code",
   "execution_count": 113,
   "metadata": {},
   "outputs": [
    {
     "name": "stdout",
     "output_type": "stream",
     "text": [
      "_________________________________________________________________\n",
      "Layer (type)                 Output Shape              Param #   \n",
      "=================================================================\n",
      "dense_1 (Dense)              (None, 16)                32        \n",
      "_________________________________________________________________\n",
      "dense_2 (Dense)              (None, 32)                544       \n",
      "_________________________________________________________________\n",
      "dense_3 (Dense)              (None, 2)                 66        \n",
      "=================================================================\n",
      "Total params: 642\n",
      "Trainable params: 642\n",
      "Non-trainable params: 0\n",
      "_________________________________________________________________\n"
     ]
    }
   ],
   "source": [
    "model2.summary()"
   ]
  },
  {
   "cell_type": "code",
   "execution_count": 114,
   "metadata": {},
   "outputs": [],
   "source": [
    "model2.load_weights('ANN3_save_weight.h5')"
   ]
  },
  {
   "cell_type": "code",
   "execution_count": 115,
   "metadata": {},
   "outputs": [
    {
     "data": {
      "text/plain": [
       "[array([[-0.5485538 , -0.16605979,  0.6971471 , -0.23878744,  0.57698375,\n",
       "         -0.4628256 , -0.30079538,  0.6509036 , -0.00968093,  0.5443936 ,\n",
       "          0.34185925,  0.6021395 ,  0.7477392 , -0.3899328 , -0.01809061,\n",
       "         -0.5431478 ]], dtype=float32),\n",
       " array([ 0.        ,  0.        , -0.31074166,  0.        , -0.05290677,\n",
       "         0.        ,  0.        , -0.3095495 ,  0.        , -0.27527633,\n",
       "         0.2506706 , -0.29085296, -0.33256745,  0.        ,  0.        ,\n",
       "         0.        ], dtype=float32),\n",
       " array([[ 4.83879447e-03,  2.49554008e-01, -1.10233143e-01,\n",
       "          1.22231513e-01,  7.92871416e-02, -1.75251573e-01,\n",
       "         -4.67080772e-02, -1.84210807e-01, -1.67204127e-01,\n",
       "         -7.78524876e-02,  4.00201976e-02, -4.23411429e-02,\n",
       "          2.44834214e-01, -3.15044224e-02, -1.75395787e-01,\n",
       "          1.48780048e-02,  3.86138558e-02,  9.13387835e-02,\n",
       "         -2.78848678e-01,  1.21202350e-01, -7.92557895e-02,\n",
       "         -3.00695002e-01,  1.39850646e-01,  8.88979435e-03,\n",
       "         -5.59506118e-02,  3.23903352e-01,  2.01890737e-01,\n",
       "          3.46699864e-01, -8.61656070e-02, -2.08285585e-01,\n",
       "         -1.69978738e-01,  5.26351035e-02],\n",
       "        [ 8.95176232e-02,  6.17067814e-02,  1.96952969e-01,\n",
       "          2.58109003e-01,  2.84345657e-01, -2.05937162e-01,\n",
       "         -1.71773687e-01,  3.32296878e-01, -5.22203743e-02,\n",
       "          1.70826226e-01, -4.31649387e-02, -1.15441978e-02,\n",
       "         -2.23489702e-02,  2.29898721e-01, -1.28951669e-02,\n",
       "         -2.33122468e-01,  1.84391052e-01, -9.72036123e-02,\n",
       "         -2.94503033e-01, -3.03314924e-01, -1.45569146e-01,\n",
       "         -3.36680979e-01, -1.06734693e-01, -6.78075254e-02,\n",
       "         -2.49358118e-01,  1.14924937e-01,  1.26573384e-01,\n",
       "         -1.41228348e-01,  3.16072553e-01, -1.21480614e-01,\n",
       "          6.08775020e-02, -2.04621345e-01],\n",
       "        [-1.55110598e-01,  9.82357919e-01, -3.47149760e-01,\n",
       "         -4.12440926e-01,  2.60644227e-01, -4.87554431e-01,\n",
       "          8.20601583e-01,  8.41137826e-01, -8.74354184e-01,\n",
       "         -3.47934365e-01, -6.07059836e-01, -8.94584656e-01,\n",
       "          6.94153547e-01, -1.22274742e-01,  8.29043627e-01,\n",
       "          2.14055151e-01, -1.01086736e+00, -3.21032435e-01,\n",
       "          1.83248192e-01,  1.13065219e+00, -7.55623877e-02,\n",
       "         -3.17955077e-01,  9.16448534e-01, -8.33079576e-01,\n",
       "          5.68963826e-01,  6.62401259e-01, -8.74388218e-01,\n",
       "          9.61340293e-02,  9.65467393e-01, -1.53700411e-01,\n",
       "         -2.60969162e-01, -7.56028593e-01],\n",
       "        [ 4.57783043e-02, -3.18448424e-01, -4.46569324e-02,\n",
       "          2.57567912e-01, -1.78434744e-01,  2.69700289e-02,\n",
       "          8.77377689e-02, -2.80984849e-01,  3.36910188e-02,\n",
       "         -1.85140818e-01,  5.86557686e-02,  2.91059047e-01,\n",
       "         -1.58183858e-01,  2.29339600e-02, -1.92868948e-01,\n",
       "          2.14139014e-01,  1.44773751e-01, -2.26100981e-01,\n",
       "         -2.85809338e-01, -3.45364809e-02,  1.79419547e-01,\n",
       "          1.60938412e-01,  1.17080748e-01, -9.68254805e-02,\n",
       "         -6.18205667e-02, -1.39352396e-01, -2.15628073e-01,\n",
       "          1.27753019e-02, -4.37057614e-02, -3.35260391e-01,\n",
       "          2.56349713e-01,  3.16494256e-01],\n",
       "        [-2.49927431e-01,  5.70915461e-01, -1.92221999e-01,\n",
       "          5.55603467e-02,  1.18524805e-01,  1.13246262e-01,\n",
       "          2.68804640e-01,  1.92102194e-01,  1.99670549e-02,\n",
       "         -2.82853663e-01, -1.44009352e-01,  1.47879884e-01,\n",
       "          4.37771410e-01,  2.73513585e-01,  2.68021315e-01,\n",
       "          6.27107918e-02,  8.22708383e-02,  1.57580972e-01,\n",
       "         -2.55487859e-01,  2.38169312e-01, -2.36155540e-01,\n",
       "         -1.56812906e-01,  4.01600808e-01, -1.10233121e-01,\n",
       "          3.05050731e-01,  3.35609198e-01,  1.63481697e-01,\n",
       "         -3.55065435e-01,  3.27333391e-01,  1.85837187e-02,\n",
       "          8.59457552e-02, -1.68789998e-01],\n",
       "        [-2.63034761e-01, -7.97659159e-04,  2.49895304e-01,\n",
       "         -3.24816555e-01, -2.62988746e-01, -1.15778148e-01,\n",
       "          4.53637540e-02, -2.25920260e-01,  1.86697274e-01,\n",
       "          3.43667060e-01,  6.97809458e-03,  3.19914132e-01,\n",
       "         -8.84288847e-02,  5.41024804e-02, -1.77889615e-01,\n",
       "         -3.19921196e-01,  3.47373754e-01,  3.97647023e-02,\n",
       "          2.71320909e-01, -7.36159682e-02, -1.25123799e-01,\n",
       "         -3.05320948e-01, -1.79540515e-02, -3.51203710e-01,\n",
       "          4.24569845e-03,  2.29083270e-01, -3.46368790e-01,\n",
       "         -2.99563020e-01,  2.67463028e-02,  2.59483963e-01,\n",
       "         -2.64142036e-01, -3.31192464e-01],\n",
       "        [-2.94223338e-01,  2.14338034e-01, -1.69274896e-01,\n",
       "          1.24204218e-01,  1.12378657e-01, -1.56996846e-01,\n",
       "          2.66124457e-01, -1.95583791e-01, -3.15094709e-01,\n",
       "          2.96864599e-01, -3.35337222e-02,  1.81936920e-02,\n",
       "          1.37451887e-02, -8.62444341e-02,  2.80504376e-01,\n",
       "          1.37953371e-01,  2.66805291e-03, -2.29396358e-01,\n",
       "          9.29046273e-02,  1.24239206e-01, -1.51721999e-01,\n",
       "          4.87710536e-02, -2.58396566e-02,  2.49410123e-01,\n",
       "          1.73596144e-02, -1.55427963e-01,  4.20408845e-02,\n",
       "         -3.28748018e-01, -3.26696247e-01, -2.63772666e-01,\n",
       "         -2.10461885e-01, -1.56643391e-01],\n",
       "        [ 1.37890399e-01,  1.01246881e+00,  5.30299246e-02,\n",
       "         -9.60255623e-01,  1.21550180e-01, -7.79065132e-01,\n",
       "          6.53541267e-01,  8.67339969e-01, -7.75964439e-01,\n",
       "         -1.91609517e-01, -9.66379881e-01, -9.85854208e-01,\n",
       "          6.57193840e-01, -3.28125179e-01,  9.56070721e-01,\n",
       "         -1.12729579e-01, -1.15249634e+00,  2.23865747e-01,\n",
       "          1.61288470e-01,  7.10361600e-01,  6.14181161e-03,\n",
       "          5.75815439e-02,  1.10135531e+00, -6.29918933e-01,\n",
       "          1.08597112e+00,  1.14070475e+00, -9.79104459e-01,\n",
       "         -3.37532967e-01,  1.04644370e+00,  2.89077193e-01,\n",
       "          2.10644990e-01, -5.43126762e-01],\n",
       "        [ 1.69327885e-01, -2.48714626e-01, -2.15049058e-01,\n",
       "          2.43199140e-01,  1.34123832e-01,  3.18854541e-01,\n",
       "          1.53211445e-01,  1.62752658e-01,  2.48075336e-01,\n",
       "          2.72064537e-01, -3.35295975e-01, -2.28554770e-01,\n",
       "         -3.45246732e-01, -1.14541143e-01, -3.04343998e-01,\n",
       "          1.09515309e-01, -2.71789938e-01, -8.74555409e-02,\n",
       "          1.55757159e-01, -8.25627148e-02, -2.43871525e-01,\n",
       "         -3.19144189e-01, -3.19213897e-01,  7.48518109e-03,\n",
       "          1.64326340e-01,  1.01118892e-01, -1.45091027e-01,\n",
       "          2.32692808e-01,  2.96667010e-01,  1.30549967e-02,\n",
       "         -1.02078140e-01, -3.20895821e-01],\n",
       "        [-2.30808288e-01,  1.22698879e+00, -4.96957600e-02,\n",
       "         -9.43366289e-01, -3.55994344e-01, -5.81637979e-01,\n",
       "          1.02466738e+00,  8.63264382e-01, -1.28408158e+00,\n",
       "          9.35589969e-02, -9.15714264e-01, -1.27032852e+00,\n",
       "          1.30679941e+00,  3.11718613e-01,  1.43058646e+00,\n",
       "         -1.64100274e-01, -1.38033223e+00,  1.07319668e-01,\n",
       "          2.59491473e-01,  1.40875590e+00, -3.21445584e-01,\n",
       "          1.41979247e-01,  6.36011422e-01, -5.75971782e-01,\n",
       "          9.90386963e-01,  1.16901207e+00, -8.36009562e-01,\n",
       "         -2.37936780e-01,  1.02323771e+00, -2.37479031e-01,\n",
       "          2.24133879e-01, -5.91850042e-01],\n",
       "        [-2.63157487e-03,  1.07730351e-01, -2.29419798e-01,\n",
       "          1.37452781e-01, -3.81447881e-01,  2.39111155e-01,\n",
       "          2.25169316e-01,  4.15555894e-01,  1.17543273e-01,\n",
       "         -1.84700891e-01,  2.77460963e-01,  3.67440343e-01,\n",
       "          1.65109225e-02, -3.47642809e-01,  2.86250949e-01,\n",
       "         -2.99868077e-01,  4.01167125e-01, -2.38940716e-01,\n",
       "         -2.43309885e-01,  2.10902482e-01, -1.84017420e-02,\n",
       "         -6.40823543e-02,  3.43032479e-01,  3.05492729e-01,\n",
       "          4.12676513e-01,  3.43062639e-01,  7.19623938e-02,\n",
       "          5.06738164e-02,  3.05099577e-01,  1.96987651e-02,\n",
       "         -1.56752899e-01,  7.52239898e-02],\n",
       "        [-1.94109157e-01,  9.33531642e-01, -2.24866167e-01,\n",
       "         -1.21419418e+00,  2.31611580e-01, -9.73724484e-01,\n",
       "          1.08365238e+00,  7.26485789e-01, -7.00246215e-01,\n",
       "          9.13393795e-02, -1.19653738e+00, -8.59153509e-01,\n",
       "          9.09461141e-01, -2.61288881e-01,  1.10670531e+00,\n",
       "         -1.78805724e-01, -1.03603649e+00,  1.33355722e-01,\n",
       "         -2.38090754e-01,  1.02852881e+00, -1.99464768e-01,\n",
       "         -3.28993648e-01,  5.44137895e-01, -8.08680236e-01,\n",
       "          1.24635410e+00,  9.07672763e-01, -8.95688713e-01,\n",
       "         -5.81757911e-02,  1.19978642e+00, -3.32332760e-01,\n",
       "         -1.33486822e-01, -6.61045372e-01],\n",
       "        [ 1.21602088e-01,  9.79094028e-01, -2.77991831e-01,\n",
       "         -8.18299890e-01,  2.07707480e-01, -6.93663359e-01,\n",
       "          8.24070275e-01,  7.66572595e-01, -1.05315626e+00,\n",
       "         -3.05845857e-01, -9.61526036e-01, -9.96641040e-01,\n",
       "          9.04148161e-01,  5.61818182e-02,  9.18440461e-01,\n",
       "          1.53114110e-01, -9.01001930e-01,  1.88009962e-01,\n",
       "         -2.51167059e-01,  1.14677203e+00, -2.56266236e-01,\n",
       "          2.07771569e-01,  6.19774342e-01, -4.92979050e-01,\n",
       "          1.09370244e+00,  9.30107594e-01, -5.76149821e-01,\n",
       "         -4.49573956e-02,  8.35734248e-01, -1.00935727e-01,\n",
       "         -1.86781675e-01, -3.11170101e-01],\n",
       "        [-1.88324258e-01,  6.39428496e-02, -1.12517506e-01,\n",
       "         -3.18238556e-01, -1.15788430e-01,  1.30864263e-01,\n",
       "         -2.71137923e-01, -2.84173101e-01,  4.09275293e-02,\n",
       "          6.91430867e-02,  7.81022310e-02, -2.23202452e-01,\n",
       "          1.10950232e-01, -1.29660219e-01, -3.19923580e-01,\n",
       "         -2.10318670e-01, -9.67680812e-02,  7.45294392e-02,\n",
       "         -9.84615982e-02,  2.31174439e-01, -3.41000199e-01,\n",
       "         -8.17862153e-02, -6.60989881e-02,  3.82906497e-02,\n",
       "         -2.63085604e-01,  2.21562594e-01, -2.64237821e-01,\n",
       "         -6.99015558e-02,  1.09089524e-01,  2.54759043e-01,\n",
       "          3.35796684e-01, -1.94741532e-01],\n",
       "        [-1.73372403e-01,  3.27197522e-01, -7.18960464e-02,\n",
       "         -1.00968331e-01,  1.49684280e-01, -3.02525938e-01,\n",
       "         -2.73577303e-01, -1.43118978e-01,  2.75487900e-02,\n",
       "          1.99778646e-01,  2.57024139e-01,  2.70849377e-01,\n",
       "         -7.24442899e-02, -3.79611552e-02, -3.18331361e-01,\n",
       "          1.76482111e-01,  2.11659461e-01,  2.17767388e-01,\n",
       "          1.37724340e-01, -2.02743113e-01,  1.52989626e-02,\n",
       "          1.89471394e-01, -3.14345002e-01,  1.26196414e-01,\n",
       "          1.01835221e-01,  1.75379366e-01, -1.27669036e-01,\n",
       "          3.38163823e-01, -2.52816439e-01, -3.49804938e-01,\n",
       "         -1.76739857e-01,  1.77072734e-01],\n",
       "        [ 3.16735893e-01,  1.58215135e-01, -2.58719623e-01,\n",
       "         -2.90419698e-01, -1.49352580e-01,  6.81927502e-02,\n",
       "          2.04905659e-01,  2.38204986e-01,  2.77856380e-01,\n",
       "         -2.69561887e-01,  3.32979470e-01,  6.34673238e-03,\n",
       "          1.31664306e-01, -1.42928481e-01, -3.04534584e-01,\n",
       "         -8.85409117e-02, -2.02687725e-01,  9.12531614e-02,\n",
       "          1.28339946e-01, -7.88658857e-04,  3.16168100e-01,\n",
       "          2.90641278e-01,  1.36416525e-01, -3.19025517e-02,\n",
       "         -1.06831983e-01,  2.87271172e-01,  3.37634414e-01,\n",
       "          3.31132203e-01, -1.77722812e-01,  3.21295112e-01,\n",
       "         -1.96786925e-01,  1.56460553e-01]], dtype=float32),\n",
       " array([ 0.        , -0.26968187,  0.        ,  0.39801547, -0.01156117,\n",
       "         0.33470893, -0.24089818, -0.29391345,  0.5103533 ,  0.        ,\n",
       "         0.43891966,  0.40853605, -0.19868438,  0.        , -0.30582985,\n",
       "         0.        ,  0.46828726, -0.01424753,  0.        , -0.25862518,\n",
       "         0.        ,  0.        , -0.3001462 ,  0.33085823, -0.36180425,\n",
       "        -0.30998844,  0.38690636, -0.02157458, -0.31713718, -0.01792335,\n",
       "         0.        ,  0.3235884 ], dtype=float32),\n",
       " array([[-0.22460447,  0.10572168],\n",
       "        [-1.1377558 ,  0.58449274],\n",
       "        [-0.2687843 , -0.27588034],\n",
       "        [ 1.307067  , -1.4539171 ],\n",
       "        [ 0.0226149 , -0.15353113],\n",
       "        [ 0.8666108 , -0.8805064 ],\n",
       "        [-1.084421  ,  1.144641  ],\n",
       "        [-0.83518475,  0.9941179 ],\n",
       "        [ 1.2615156 , -1.5661339 ],\n",
       "        [-0.32364297, -0.04332891],\n",
       "        [ 0.9833523 , -1.1782833 ],\n",
       "        [ 1.5124103 , -1.4667375 ],\n",
       "        [-1.0791903 ,  1.2608348 ],\n",
       "        [ 0.06840435, -0.11268964],\n",
       "        [-0.70488816,  1.1104066 ],\n",
       "        [-0.18205518,  0.25723413],\n",
       "        [ 1.3280125 , -1.2503965 ],\n",
       "        [ 0.39285186, -0.06574506],\n",
       "        [-0.10382554,  0.3857549 ],\n",
       "        [-0.72704273,  1.0209008 ],\n",
       "        [-0.03941453, -0.06031215],\n",
       "        [ 0.2402269 ,  0.08298519],\n",
       "        [-0.7587136 ,  0.9609644 ],\n",
       "        [ 0.9106297 , -1.0160496 ],\n",
       "        [-0.63269866,  0.9492699 ],\n",
       "        [-0.91879195,  0.701403  ],\n",
       "        [ 1.6725789 , -1.5582832 ],\n",
       "        [-0.2707519 , -0.15765767],\n",
       "        [-0.72722214,  0.9857912 ],\n",
       "        [ 0.23358469,  0.25352165],\n",
       "        [-0.39206123, -0.01504451],\n",
       "        [ 1.0270356 , -1.1523315 ]], dtype=float32),\n",
       " array([ 0.2871995 , -0.28719944], dtype=float32)]"
      ]
     },
     "execution_count": 115,
     "metadata": {},
     "output_type": "execute_result"
    }
   ],
   "source": [
    "model2.get_weights()"
   ]
  },
  {
   "cell_type": "code",
   "execution_count": null,
   "metadata": {},
   "outputs": [],
   "source": []
  }
 ],
 "metadata": {
  "kernelspec": {
   "display_name": "Python 3",
   "language": "python",
   "name": "python3"
  },
  "language_info": {
   "codemirror_mode": {
    "name": "ipython",
    "version": 3
   },
   "file_extension": ".py",
   "mimetype": "text/x-python",
   "name": "python",
   "nbconvert_exporter": "python",
   "pygments_lexer": "ipython3",
   "version": "3.6.5"
  }
 },
 "nbformat": 4,
 "nbformat_minor": 2
}
