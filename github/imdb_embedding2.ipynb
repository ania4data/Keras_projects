{
 "cells": [
  {
   "cell_type": "code",
   "execution_count": 9,
   "metadata": {},
   "outputs": [
    {
     "name": "stdout",
     "output_type": "stream",
     "text": [
      "../aclImdb/aclImdb/train\n"
     ]
    }
   ],
   "source": [
    "import keras\n",
    "from keras.layers import Flatten,Dense,Dropout,Embedding\n",
    "\n",
    "import os\n",
    "import matplotlib.pyplot as plt\n",
    "\n",
    "path_main='../aclImdb/aclImdb'\n",
    "train_path=os.path.join(path_main,'train')\n",
    "test_path=os.path.join(path_main,'test')\n",
    "print(train_path)"
   ]
  },
  {
   "cell_type": "code",
   "execution_count": 10,
   "metadata": {},
   "outputs": [],
   "source": [
    "labels=[]\n",
    "texts=[]"
   ]
  },
  {
   "cell_type": "code",
   "execution_count": 17,
   "metadata": {},
   "outputs": [],
   "source": [
    "\n",
    "for dir_ in ['neg','pos']:\n",
    "    path_file=os.path.join(train_path,dir_)\n",
    "    file_list=os.listdir(path_file)\n",
    "    for i,file_ in enumerate(file_list):\n",
    "        if(file_[-4:]=='.txt'):\n",
    "            #print(file_)\n",
    "            path_files_train=os.path.join(path_file,file_)\n",
    "            f=open(path_files_train)\n",
    "            texts.append(f.read())\n",
    "#             if(i==0):\n",
    "#                 print(texts)\n",
    "            f.close()\n",
    "            if(dir_=='neg'):\n",
    "                labels.append(0)\n",
    "            else:\n",
    "                labels.append(1)\n",
    "\n",
    "# ['I thought the movie was a poor documentary. Nothing of substance was discussed. \n",
    "#  It seemed to cheapen the ideas and did not provide anything new. The film lacked wonder or romance \n",
    "#  or anything that would really drive one to science. Most scientists appeared \"stereotyped\" and sometimes weird.\n",
    "#  A woman said that her awards didn\\'t matter a whole lot, only children that were helped. She said that after a\n",
    "#  10 minute scene where she explained all her awards. Playing \"humble scientist\", are we? \"I have equations dancing\n",
    "#  in my head,\" another said. I don\\'t see how that explains anything to us. It hasn\\'t covered significant effects\n",
    "#  of science on our culture. Politics of science were barely touched.<br /><br />Not a bad flick for a 10-14 \n",
    "#  year-olds. Other than that, I felt it was boring and unrevealing.<br /><br />4/10']                \n",
    "                \n",
    "                "
   ]
  },
  {
   "cell_type": "code",
   "execution_count": 18,
   "metadata": {},
   "outputs": [
    {
     "data": {
      "text/plain": [
       "50000"
      ]
     },
     "execution_count": 18,
     "metadata": {},
     "output_type": "execute_result"
    }
   ],
   "source": [
    "len(texts)"
   ]
  },
  {
   "cell_type": "code",
   "execution_count": 19,
   "metadata": {},
   "outputs": [
    {
     "data": {
      "text/plain": [
       "50000"
      ]
     },
     "execution_count": 19,
     "metadata": {},
     "output_type": "execute_result"
    }
   ],
   "source": [
    "len(labels)"
   ]
  },
  {
   "cell_type": "code",
   "execution_count": 38,
   "metadata": {},
   "outputs": [],
   "source": [
    "from keras.preprocessing.text import Tokenizer\n",
    "from keras.preprocessing.sequence import pad_sequences\n",
    "\n",
    "max_len=100\n",
    "train_sample=20000\n",
    "eval_sample=2000\n",
    "max_vocab=10000\n",
    "\n",
    "tokenizer=Tokenizer(num_words=max_vocab)\n",
    "tokenizer.fit_on_texts(texts)  #full text, all revies, expect to get index per revire, split ..."
   ]
  },
  {
   "cell_type": "code",
   "execution_count": 39,
   "metadata": {},
   "outputs": [],
   "source": [
    "sequences=tokenizer.texts_to_sequences(texts)  # index"
   ]
  },
  {
   "cell_type": "code",
   "execution_count": 34,
   "metadata": {},
   "outputs": [
    {
     "data": {
      "text/plain": [
       "139"
      ]
     },
     "execution_count": 34,
     "metadata": {},
     "output_type": "execute_result"
    }
   ],
   "source": [
    "len(sequences[0])"
   ]
  },
  {
   "cell_type": "code",
   "execution_count": 54,
   "metadata": {},
   "outputs": [
    {
     "name": "stdout",
     "output_type": "stream",
     "text": [
      "[10, 194, 1, 17, 13, 3, 335, 659, 161, 4, 2321, 13, 6985, 9, 465, 5, 1, 1005, 2, 119, 21, 1751, 229, 159, 1, 19, 3657, 591, 39, 880, 39, 229, 12, 59, 63, 1275, 28, 5, 1063, 88, 3348, 1478, 7476, 2, 515, 911, 3, 252, 298, 12, 38, 2124, 158, 548, 3, 223, 173, 61, 473, 12, 68, 1670, 56, 298, 12, 100, 3, 155, 783, 133, 118, 56, 1848, 29, 38, 2124, 392, 4483, 1650, 23, 72, 10, 25, 1100, 8, 58, 416, 157, 298, 10, 89, 64, 86, 12, 2553, 229, 5, 175, 9, 1479, 2373, 2665, 299, 4, 1063, 20, 260, 1177, 2410, 4, 1063, 68, 1196, 2837, 7, 7, 21, 3, 75, 506, 15, 3, 155, 2425, 288, 6792, 82, 71, 12, 10, 417, 9, 13, 354, 2, 7, 7, 467, 155]\n"
     ]
    }
   ],
   "source": [
    "print(sequences[0])"
   ]
  },
  {
   "cell_type": "code",
   "execution_count": 55,
   "metadata": {},
   "outputs": [
    {
     "name": "stdout",
     "output_type": "stream",
     "text": [
      "I thought the movie was a poor documentary. Nothing of substance was discussed. It seemed to cheapen the ideas and did not provide anything new. The film lacked wonder or romance or anything that would really drive one to science. Most scientists appeared \"stereotyped\" and sometimes weird. A woman said that her awards didn't matter a whole lot, only children that were helped. She said that after a 10 minute scene where she explained all her awards. Playing \"humble scientist\", are we? \"I have equations dancing in my head,\" another said. I don't see how that explains anything to us. It hasn't covered significant effects of science on our culture. Politics of science were barely touched.<br /><br />Not a bad flick for a 10-14 year-olds. Other than that, I felt it was boring and unrevealing.<br /><br />4/10\n"
     ]
    }
   ],
   "source": [
    "print(texts[0])"
   ]
  },
  {
   "cell_type": "code",
   "execution_count": 56,
   "metadata": {},
   "outputs": [
    {
     "data": {
      "text/plain": [
       "10"
      ]
     },
     "execution_count": 56,
     "metadata": {},
     "output_type": "execute_result"
    }
   ],
   "source": [
    "tokenizer.word_index['i']"
   ]
  },
  {
   "cell_type": "code",
   "execution_count": 45,
   "metadata": {},
   "outputs": [],
   "source": [
    "#(tokenizer.word_counts)\n",
    "\n",
    "\n",
    "# OrderedDict([('i', 154284),\n",
    "#              ('thought', 6862),\n",
    "#              ('the', 672296),\n",
    "#              ('movie', 87128),\n",
    "#              ('was', 96390),\n",
    "#              ('a', 326080),\n",
    "#              ('poor', 3792),\n",
    "#              ('documentary', 1890),\n",
    "#              ('nothing', 8544),\n",
    "#              ('of', 291694),\n",
    "#              ('substance', 438),\n",
    "#              ('discussed', 104),"
   ]
  },
  {
   "cell_type": "code",
   "execution_count": 47,
   "metadata": {},
   "outputs": [],
   "source": [
    "# tokenizer.word_docs\n",
    "\n",
    "\n",
    "# {'have': 28370,\n",
    "#  'see': 16166,\n",
    "#  'or': 20676,\n",
    "#  'year': 3784,\n",
    "#  'movie': 30460,\n",
    "#  'romance': 1192,\n",
    "#  'drive': 788,\n",
    "#  'documentary': 1238,\n",
    "#  'sometimes': 2080,"
   ]
  },
  {
   "cell_type": "code",
   "execution_count": 49,
   "metadata": {},
   "outputs": [
    {
     "data": {
      "text/plain": [
       "49586"
      ]
     },
     "execution_count": 49,
     "metadata": {},
     "output_type": "execute_result"
    }
   ],
   "source": [
    "tokenizer.word_docs['the']  #gives you count, howmany time happen across text"
   ]
  },
  {
   "cell_type": "code",
   "execution_count": 51,
   "metadata": {},
   "outputs": [
    {
     "data": {
      "text/plain": [
       "48328"
      ]
     },
     "execution_count": 51,
     "metadata": {},
     "output_type": "execute_result"
    }
   ],
   "source": [
    "tokenizer.word_docs['and']"
   ]
  },
  {
   "cell_type": "code",
   "execution_count": 50,
   "metadata": {},
   "outputs": [
    {
     "data": {
      "text/plain": [
       "1"
      ]
     },
     "execution_count": 50,
     "metadata": {},
     "output_type": "execute_result"
    }
   ],
   "source": [
    "tokenizer.word_index['the'] #this gives you rank, highr count earlier rank"
   ]
  },
  {
   "cell_type": "code",
   "execution_count": 52,
   "metadata": {},
   "outputs": [
    {
     "data": {
      "text/plain": [
       "2"
      ]
     },
     "execution_count": 52,
     "metadata": {},
     "output_type": "execute_result"
    }
   ],
   "source": [
    "tokenizer.word_index['and']"
   ]
  },
  {
   "cell_type": "code",
   "execution_count": 53,
   "metadata": {},
   "outputs": [],
   "source": [
    "# tokenizer.word_index  #index is 1 for 'the' since this is rank in frequency\n",
    "\n",
    "\n",
    "# {'the': 1,\n",
    "#  'and': 2,\n",
    "#  'a': 3,\n",
    "#  'of': 4,\n",
    "#  'to': 5,\n",
    "#  'is': 6,\n",
    "#  'br': 7,\n",
    "#  'in': 8,\n",
    "#  'it': 9,\n",
    "#  'i': 10,\n",
    "#  'this': 11,"
   ]
  },
  {
   "cell_type": "code",
   "execution_count": 57,
   "metadata": {},
   "outputs": [],
   "source": [
    "word_to_index=tokenizer.word_index"
   ]
  },
  {
   "cell_type": "code",
   "execution_count": 116,
   "metadata": {},
   "outputs": [
    {
     "data": {
      "text/plain": [
       "88582"
      ]
     },
     "execution_count": 116,
     "metadata": {},
     "output_type": "execute_result"
    }
   ],
   "source": [
    "len(word_to_index)"
   ]
  },
  {
   "cell_type": "code",
   "execution_count": 58,
   "metadata": {},
   "outputs": [],
   "source": [
    "data=pad_sequences(sequences,maxlen=max_len)"
   ]
  },
  {
   "cell_type": "code",
   "execution_count": 59,
   "metadata": {},
   "outputs": [
    {
     "data": {
      "text/plain": [
       "array([  88, 3348, 1478, 7476,    2,  515,  911,    3,  252,  298,   12,\n",
       "         38, 2124,  158,  548,    3,  223,  173,   61,  473,   12,   68,\n",
       "       1670,   56,  298,   12,  100,    3,  155,  783,  133,  118,   56,\n",
       "       1848,   29,   38, 2124,  392, 4483, 1650,   23,   72,   10,   25,\n",
       "       1100,    8,   58,  416,  157,  298,   10,   89,   64,   86,   12,\n",
       "       2553,  229,    5,  175,    9, 1479, 2373, 2665,  299,    4, 1063,\n",
       "         20,  260, 1177, 2410,    4, 1063,   68, 1196, 2837,    7,    7,\n",
       "         21,    3,   75,  506,   15,    3,  155, 2425,  288, 6792,   82,\n",
       "         71,   12,   10,  417,    9,   13,  354,    2,    7,    7,  467,\n",
       "        155], dtype=int32)"
      ]
     },
     "execution_count": 59,
     "metadata": {},
     "output_type": "execute_result"
    }
   ],
   "source": [
    "data[0]  #'pre' from back of array"
   ]
  },
  {
   "cell_type": "code",
   "execution_count": 60,
   "metadata": {},
   "outputs": [
    {
     "data": {
      "text/plain": [
       "50000"
      ]
     },
     "execution_count": 60,
     "metadata": {},
     "output_type": "execute_result"
    }
   ],
   "source": [
    "len(data)"
   ]
  },
  {
   "cell_type": "code",
   "execution_count": 64,
   "metadata": {},
   "outputs": [],
   "source": [
    "import numpy as np\n",
    "labels=np.asarray(labels)"
   ]
  },
  {
   "cell_type": "code",
   "execution_count": 66,
   "metadata": {},
   "outputs": [
    {
     "data": {
      "text/plain": [
       "(50000,)"
      ]
     },
     "execution_count": 66,
     "metadata": {},
     "output_type": "execute_result"
    }
   ],
   "source": [
    "labels.shape"
   ]
  },
  {
   "cell_type": "code",
   "execution_count": 67,
   "metadata": {},
   "outputs": [
    {
     "data": {
      "text/plain": [
       "(50000, 100)"
      ]
     },
     "execution_count": 67,
     "metadata": {},
     "output_type": "execute_result"
    }
   ],
   "source": [
    "data.shape"
   ]
  },
  {
   "cell_type": "code",
   "execution_count": 72,
   "metadata": {},
   "outputs": [],
   "source": [
    "index=np.random.choice(np.array(50000),50000)  #mixing /shuffling data"
   ]
  },
  {
   "cell_type": "code",
   "execution_count": 73,
   "metadata": {},
   "outputs": [],
   "source": [
    "datanew=data[index]\n",
    "labelsnew=labels[index]"
   ]
  },
  {
   "cell_type": "code",
   "execution_count": 74,
   "metadata": {},
   "outputs": [
    {
     "data": {
      "text/plain": [
       "(50000, 100)"
      ]
     },
     "execution_count": 74,
     "metadata": {},
     "output_type": "execute_result"
    }
   ],
   "source": [
    "datanew.shape"
   ]
  },
  {
   "cell_type": "code",
   "execution_count": 75,
   "metadata": {},
   "outputs": [
    {
     "data": {
      "text/plain": [
       "(50000,)"
      ]
     },
     "execution_count": 75,
     "metadata": {},
     "output_type": "execute_result"
    }
   ],
   "source": [
    "labelsnew.shape"
   ]
  },
  {
   "cell_type": "code",
   "execution_count": 76,
   "metadata": {},
   "outputs": [],
   "source": [
    "x_train=datanew[:train_sample]\n",
    "x_eval=datanew[train_sample:train_sample+eval_sample]\n",
    "\n",
    "labels_train=labelsnew[:train_sample]\n",
    "labels_eval=labelsnew[train_sample:train_sample+eval_sample]"
   ]
  },
  {
   "cell_type": "code",
   "execution_count": 83,
   "metadata": {},
   "outputs": [
    {
     "data": {
      "text/plain": [
       "array([0, 1, 0, 1, 0, 1, 1, 0, 1, 0, 0, 0, 1, 0, 0, 1, 0, 0, 0, 0, 1, 0,\n",
       "       1, 0, 1, 1, 0, 0, 1, 0, 1, 1, 1, 1, 0, 1, 0, 0, 1, 0, 1, 0, 1, 1,\n",
       "       0, 0, 0, 0, 1, 0])"
      ]
     },
     "execution_count": 83,
     "metadata": {},
     "output_type": "execute_result"
    }
   ],
   "source": [
    "labels_eval[0:50]"
   ]
  },
  {
   "cell_type": "code",
   "execution_count": 89,
   "metadata": {},
   "outputs": [],
   "source": [
    "glove_dir='../glove.6B'\n",
    "\n",
    "embedding_index={}\n",
    "path_glove_file=os.path.join(glove_dir,'glove.6B.100d.txt')  #100 size vector\n",
    "\n",
    "f=open(path_glove_file)\n",
    "\n",
    "for line in f:   #line by line\n",
    "    \n",
    "    line_=line.split()\n",
    "    word_=line_[0]\n",
    "    coefs=np.asarray(line_[1:],dtype='float32')\n",
    "    embedding_index[word_]=coefs\n",
    "    \n",
    "f.close()    \n",
    "    \n",
    "                              "
   ]
  },
  {
   "cell_type": "code",
   "execution_count": 111,
   "metadata": {},
   "outputs": [],
   "source": [
    "from sklearn.metrics.pairwise import cosine_similarity"
   ]
  },
  {
   "cell_type": "code",
   "execution_count": 98,
   "metadata": {},
   "outputs": [
    {
     "data": {
      "text/plain": [
       "(100,)"
      ]
     },
     "execution_count": 98,
     "metadata": {},
     "output_type": "execute_result"
    }
   ],
   "source": [
    "embedding_index['good'].shape"
   ]
  },
  {
   "cell_type": "code",
   "execution_count": 101,
   "metadata": {},
   "outputs": [
    {
     "data": {
      "text/plain": [
       "400000"
      ]
     },
     "execution_count": 101,
     "metadata": {},
     "output_type": "execute_result"
    }
   ],
   "source": [
    "len(embedding_index)\n"
   ]
  },
  {
   "cell_type": "code",
   "execution_count": 115,
   "metadata": {},
   "outputs": [
    {
     "name": "stdout",
     "output_type": "stream",
     "text": [
      "0.5559101104736328\n"
     ]
    }
   ],
   "source": [
    "from scipy import spatial\n",
    "\n",
    "dataSetI = embedding_index['fork'].reshape(-1, 1)\n",
    "dataSetII = embedding_index['knife'].reshape(-1, 1)\n",
    "result = spatial.distance.cosine(dataSetI, dataSetII)\n",
    "print(result)"
   ]
  },
  {
   "cell_type": "code",
   "execution_count": 110,
   "metadata": {},
   "outputs": [
    {
     "data": {
      "text/plain": [
       "1.0"
      ]
     },
     "execution_count": 110,
     "metadata": {},
     "output_type": "execute_result"
    }
   ],
   "source": [
    "result"
   ]
  },
  {
   "cell_type": "code",
   "execution_count": 118,
   "metadata": {},
   "outputs": [],
   "source": [
    "embedding_dim=100  # vector size 100\n",
    "\n",
    "embedding_matrix=np.zeros((max_vocab,embedding_dim))\n",
    "\n",
    "\n",
    "for word_,index_ in word_to_index.items():  #from imdb vocabulary\n",
    "    \n",
    "    if(index_<max_vocab):\n",
    "        \n",
    "        embedding_vector=embedding_index.get(word_)\n",
    "        if embedding_vector is not None:\n",
    "            embedding_matrix[index_]=embedding_vector  #embedding index  400000 of 100 len vec in dict"
   ]
  },
  {
   "cell_type": "code",
   "execution_count": 123,
   "metadata": {},
   "outputs": [
    {
     "data": {
      "text/plain": [
       "(10000, 100)"
      ]
     },
     "execution_count": 123,
     "metadata": {},
     "output_type": "execute_result"
    }
   ],
   "source": [
    "embedding_matrix.shape   #embedding weight shape matrix"
   ]
  },
  {
   "cell_type": "code",
   "execution_count": 127,
   "metadata": {},
   "outputs": [
    {
     "data": {
      "text/plain": [
       "array([-0.038194  , -0.24487001,  0.72812003, -0.39961001,  0.083172  ,\n",
       "        0.043953  , -0.39140999,  0.3344    , -0.57545   ,  0.087459  ,\n",
       "        0.28786999, -0.06731   ,  0.30906001, -0.26383999, -0.13231   ,\n",
       "       -0.20757   ,  0.33395001, -0.33848   , -0.31742999, -0.48335999,\n",
       "        0.1464    , -0.37303999,  0.34577   ,  0.052041  ,  0.44946   ,\n",
       "       -0.46970999,  0.02628   , -0.54154998, -0.15518001, -0.14106999,\n",
       "       -0.039722  ,  0.28277001,  0.14393   ,  0.23464   , -0.31020999,\n",
       "        0.086173  ,  0.20397   ,  0.52623999,  0.17163999, -0.082378  ,\n",
       "       -0.71787   , -0.41531   ,  0.20334999, -0.12763   ,  0.41367   ,\n",
       "        0.55186999,  0.57907999, -0.33476999, -0.36559001, -0.54856998,\n",
       "       -0.062892  ,  0.26583999,  0.30204999,  0.99774998, -0.80480999,\n",
       "       -3.0243001 ,  0.01254   , -0.36941999,  2.21670008,  0.72201002,\n",
       "       -0.24978   ,  0.92136002,  0.034514  ,  0.46744999,  1.10790002,\n",
       "       -0.19358   , -0.074575  ,  0.23353   , -0.052062  , -0.22044   ,\n",
       "        0.057162  , -0.15806   , -0.30798   , -0.41624999,  0.37972   ,\n",
       "        0.15006   , -0.53211999, -0.20550001, -1.25259995,  0.071624  ,\n",
       "        0.70564997,  0.49744001, -0.42063001,  0.26148   , -1.53799999,\n",
       "       -0.30223   , -0.073438  , -0.28312001,  0.37103999, -0.25217   ,\n",
       "        0.016215  , -0.017099  , -0.38984001,  0.87423998, -0.72569001,\n",
       "       -0.51058   , -0.52028   , -0.1459    ,  0.82779998,  0.27061999])"
      ]
     },
     "execution_count": 127,
     "metadata": {},
     "output_type": "execute_result"
    }
   ],
   "source": [
    "embedding_matrix[1]"
   ]
  },
  {
   "cell_type": "code",
   "execution_count": 152,
   "metadata": {},
   "outputs": [
    {
     "name": "stdout",
     "output_type": "stream",
     "text": [
      "_________________________________________________________________\n",
      "Layer (type)                 Output Shape              Param #   \n",
      "=================================================================\n",
      "embedding_3 (Embedding)      (None, 100, 100)          1000000   \n",
      "_________________________________________________________________\n",
      "flatten_3 (Flatten)          (None, 10000)             0         \n",
      "_________________________________________________________________\n",
      "dropout_4 (Dropout)          (None, 10000)             0         \n",
      "_________________________________________________________________\n",
      "dense_4 (Dense)              (None, 64)                640064    \n",
      "_________________________________________________________________\n",
      "dropout_5 (Dropout)          (None, 64)                0         \n",
      "_________________________________________________________________\n",
      "dense_5 (Dense)              (None, 1)                 65        \n",
      "=================================================================\n",
      "Total params: 1,640,129\n",
      "Trainable params: 1,640,129\n",
      "Non-trainable params: 0\n",
      "_________________________________________________________________\n"
     ]
    }
   ],
   "source": [
    "from keras.models import Sequential\n",
    "from keras.layers import Flatten,Dense,Embedding,Dropout\n",
    "\n",
    "\n",
    "model=Sequential()   #10000 * 100\n",
    "model.add(Embedding(max_vocab,embedding_dim,input_length=max_len)) #dense layer 100 => sample * max_len*8\n",
    "model.add(Flatten())\n",
    "model.add(Dropout(0.5))\n",
    "model.add(Dense(64,activation='relu'))\n",
    "model.add(Dropout(0.5))\n",
    "model.add(Dense(1,activation='sigmoid'))\n",
    "\n",
    "model.summary()"
   ]
  },
  {
   "cell_type": "code",
   "execution_count": 153,
   "metadata": {},
   "outputs": [
    {
     "data": {
      "text/plain": [
       "array([[ 0.        ,  0.        ,  0.        , ...,  0.        ,\n",
       "         0.        ,  0.        ],\n",
       "       [-0.038194  , -0.24487001,  0.72812003, ..., -0.1459    ,\n",
       "         0.82779998,  0.27061999],\n",
       "       [-0.071953  ,  0.23127   ,  0.023731  , ..., -0.71894997,\n",
       "         0.86894   ,  0.19539   ],\n",
       "       ...,\n",
       "       [-0.24462   , -0.28867999, -0.27638   , ..., -0.080172  ,\n",
       "        -0.237     , -0.14956   ],\n",
       "       [-0.29734999,  0.66285002,  0.079917  , ..., -0.90907001,\n",
       "         0.61360002, -0.052395  ],\n",
       "       [-0.021031  , -0.039257  , -0.74848002, ..., -0.94312   ,\n",
       "        -1.00370002, -0.68343002]])"
      ]
     },
     "execution_count": 153,
     "metadata": {},
     "output_type": "execute_result"
    }
   ],
   "source": [
    "embedding_matrix"
   ]
  },
  {
   "cell_type": "code",
   "execution_count": 154,
   "metadata": {},
   "outputs": [
    {
     "data": {
      "text/plain": [
       "(10000, 100)"
      ]
     },
     "execution_count": 154,
     "metadata": {},
     "output_type": "execute_result"
    }
   ],
   "source": [
    "embedding_matrix.shape"
   ]
  },
  {
   "cell_type": "code",
   "execution_count": 155,
   "metadata": {},
   "outputs": [
    {
     "data": {
      "text/plain": [
       "[array([[-0.00512026,  0.02747351, -0.03335508, ..., -0.02873565,\n",
       "          0.02019973,  0.01249385],\n",
       "        [-0.01669018, -0.04222324, -0.03009282, ...,  0.02154363,\n",
       "          0.00823496, -0.04262137],\n",
       "        [-0.04781811,  0.04094717, -0.01652296, ..., -0.03378069,\n",
       "          0.04653471, -0.02623366],\n",
       "        ...,\n",
       "        [-0.0390599 ,  0.03401294,  0.0028873 , ...,  0.00967674,\n",
       "          0.03287056, -0.04858071],\n",
       "        [ 0.02172389,  0.00594155,  0.02693871, ...,  0.02571681,\n",
       "         -0.0209727 , -0.04203793],\n",
       "        [ 0.04792562, -0.04363277, -0.0378554 , ..., -0.00432465,\n",
       "         -0.0483672 ,  0.02090602]], dtype=float32)]"
      ]
     },
     "execution_count": 155,
     "metadata": {},
     "output_type": "execute_result"
    }
   ],
   "source": [
    "model.layers[0].get_weights()"
   ]
  },
  {
   "cell_type": "code",
   "execution_count": 156,
   "metadata": {},
   "outputs": [],
   "source": [
    "model.layers[0].set_weights([embedding_matrix])"
   ]
  },
  {
   "cell_type": "code",
   "execution_count": 157,
   "metadata": {},
   "outputs": [],
   "source": [
    "model.layers[0].trainable=False"
   ]
  },
  {
   "cell_type": "code",
   "execution_count": 158,
   "metadata": {},
   "outputs": [
    {
     "data": {
      "text/plain": [
       "[array([[ 0.      ,  0.      ,  0.      , ...,  0.      ,  0.      ,\n",
       "          0.      ],\n",
       "        [-0.038194, -0.24487 ,  0.72812 , ..., -0.1459  ,  0.8278  ,\n",
       "          0.27062 ],\n",
       "        [-0.071953,  0.23127 ,  0.023731, ..., -0.71895 ,  0.86894 ,\n",
       "          0.19539 ],\n",
       "        ...,\n",
       "        [-0.24462 , -0.28868 , -0.27638 , ..., -0.080172, -0.237   ,\n",
       "         -0.14956 ],\n",
       "        [-0.29735 ,  0.66285 ,  0.079917, ..., -0.90907 ,  0.6136  ,\n",
       "         -0.052395],\n",
       "        [-0.021031, -0.039257, -0.74848 , ..., -0.94312 , -1.0037  ,\n",
       "         -0.68343 ]], dtype=float32)]"
      ]
     },
     "execution_count": 158,
     "metadata": {},
     "output_type": "execute_result"
    }
   ],
   "source": [
    "model.layers[0].get_weights()"
   ]
  },
  {
   "cell_type": "code",
   "execution_count": 142,
   "metadata": {},
   "outputs": [],
   "source": [
    "model.compile(optimizer='adam',loss='binary_crossentropy',metrics=['acc'])"
   ]
  },
  {
   "cell_type": "code",
   "execution_count": 143,
   "metadata": {},
   "outputs": [
    {
     "name": "stdout",
     "output_type": "stream",
     "text": [
      "Train on 20000 samples, validate on 2000 samples\n",
      "Epoch 1/10\n",
      "20000/20000 [==============================] - 16s 801us/step - loss: 0.6767 - acc: 0.5614 - val_loss: 0.6392 - val_acc: 0.6790\n",
      "Epoch 2/10\n",
      "20000/20000 [==============================] - 17s 844us/step - loss: 0.6228 - acc: 0.6346 - val_loss: 0.5971 - val_acc: 0.6945\n",
      "Epoch 3/10\n",
      "20000/20000 [==============================] - 17s 838us/step - loss: 0.5955 - acc: 0.6597 - val_loss: 0.5513 - val_acc: 0.7385\n",
      "Epoch 4/10\n",
      "20000/20000 [==============================] - 18s 877us/step - loss: 0.5804 - acc: 0.6765 - val_loss: 0.5156 - val_acc: 0.7560\n",
      "Epoch 5/10\n",
      "20000/20000 [==============================] - 17s 868us/step - loss: 0.5598 - acc: 0.6970 - val_loss: 0.5296 - val_acc: 0.7580\n",
      "Epoch 6/10\n",
      "20000/20000 [==============================] - 18s 900us/step - loss: 0.5473 - acc: 0.7070 - val_loss: 0.5355 - val_acc: 0.7705\n",
      "Epoch 7/10\n",
      "20000/20000 [==============================] - 18s 911us/step - loss: 0.5413 - acc: 0.7081 - val_loss: 0.5225 - val_acc: 0.7550\n",
      "Epoch 8/10\n",
      "20000/20000 [==============================] - 18s 906us/step - loss: 0.5330 - acc: 0.7174 - val_loss: 0.4944 - val_acc: 0.7760\n",
      "Epoch 9/10\n",
      "20000/20000 [==============================] - 19s 931us/step - loss: 0.5178 - acc: 0.7256 - val_loss: 0.4967 - val_acc: 0.7685\n",
      "Epoch 10/10\n",
      "20000/20000 [==============================] - 19s 936us/step - loss: 0.5106 - acc: 0.7312 - val_loss: 0.4968 - val_acc: 0.7715\n"
     ]
    }
   ],
   "source": [
    "history=model.fit(x_train,labels_train,epochs=10,batch_size=32,validation_data=(x_eval,labels_eval))"
   ]
  },
  {
   "cell_type": "code",
   "execution_count": 144,
   "metadata": {},
   "outputs": [
    {
     "name": "stdout",
     "output_type": "stream",
     "text": [
      "2000/2000 [==============================] - 0s 136us/step\n"
     ]
    },
    {
     "data": {
      "text/plain": [
       "[0.4967513618469238, 0.7715]"
      ]
     },
     "execution_count": 144,
     "metadata": {},
     "output_type": "execute_result"
    }
   ],
   "source": [
    "model.evaluate(x_eval,labels_eval)"
   ]
  },
  {
   "cell_type": "code",
   "execution_count": 145,
   "metadata": {},
   "outputs": [
    {
     "data": {
      "image/png": "[encoded data removed]",
      "text/plain": [
       "<Figure size 432x288 with 1 Axes>"
      ]
     },
     "metadata": {},
     "output_type": "display_data"
    },
    {
     "data": {
      "image/png": "[encoded data removed]",
      "text/plain": [
       "<Figure size 432x288 with 1 Axes>"
      ]
     },
     "metadata": {},
     "output_type": "display_data"
    }
   ],
   "source": [
    "import matplotlib.pyplot as plt\n",
    "import numpy  as np\n",
    "list_epoch=np.arange(0,10)\n",
    "plt.plot(list_epoch,history.history['loss'])\n",
    "\n",
    "plt.plot(list_epoch,history.history['val_loss'])\n",
    "\n",
    "plt.legend(['train_loss','val_loss'])\n",
    "plt.show()\n",
    "\n",
    "\n",
    "plt.plot(list_epoch,history.history['acc'])\n",
    "\n",
    "plt.plot(list_epoch,history.history['val_acc'])\n",
    "plt.legend(['train_acc','val_acc'])\n",
    "plt.show()"
   ]
  },
  {
   "cell_type": "code",
   "execution_count": 147,
   "metadata": {},
   "outputs": [],
   "source": [
    "texts=[]\n",
    "labels=[]\n",
    "\n",
    "for dir_ in ['neg','pos']:\n",
    "    path_file=os.path.join(test_path,dir_)\n",
    "    file_list=os.listdir(path_file)\n",
    "    for i,file_ in enumerate(file_list):\n",
    "        if(file_[-4:]=='.txt'):\n",
    "            #print(file_)\n",
    "            path_files_train=os.path.join(path_file,file_)\n",
    "            f=open(path_files_train)\n",
    "            texts.append(f.read())\n",
    "#             if(i==0):\n",
    "#                 print(texts)\n",
    "            f.close()\n",
    "            if(dir_=='neg'):\n",
    "                labels.append(0)\n",
    "            else:\n",
    "                labels.append(1)\n",
    "                \n",
    "                \n",
    "sequences=tokenizer.texts_to_sequences(texts)    #use fit from train      \n",
    "\n",
    "x_test=pad_sequences(sequences,maxlen=max_len)\n",
    "test_labels=np.asarray(labels)"
   ]
  },
  {
   "cell_type": "code",
   "execution_count": 148,
   "metadata": {},
   "outputs": [
    {
     "name": "stdout",
     "output_type": "stream",
     "text": [
      "25000/25000 [==============================] - 4s 150us/step\n"
     ]
    },
    {
     "data": {
      "text/plain": [
       "[0.5772711224746704, 0.68688]"
      ]
     },
     "execution_count": 148,
     "metadata": {},
     "output_type": "execute_result"
    }
   ],
   "source": [
    "model.evaluate(x_test,test_labels)"
   ]
  },
  {
   "cell_type": "code",
   "execution_count": null,
   "metadata": {},
   "outputs": [],
   "source": []
  }
 ],
 "metadata": {
  "kernelspec": {
   "display_name": "Python 3",
   "language": "python",
   "name": "python3"
  },
  "language_info": {
   "codemirror_mode": {
    "name": "ipython",
    "version": 3
   },
   "file_extension": ".py",
   "mimetype": "text/x-python",
   "name": "python",
   "nbconvert_exporter": "python",
   "pygments_lexer": "ipython3",
   "version": "3.6.5"
  }
 },
 "nbformat": 4,
 "nbformat_minor": 2
}
